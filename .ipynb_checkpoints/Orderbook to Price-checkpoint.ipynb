{
 "cells": [
  {
   "cell_type": "code",
   "execution_count": 1,
   "metadata": {
    "collapsed": false,
    "deletable": true,
    "editable": true
   },
   "outputs": [],
   "source": [
    "import pandas as pd\n",
    "import numpy as np\n",
    "from sqlalchemy import create_engine"
   ]
  },
  {
   "cell_type": "code",
   "execution_count": 2,
   "metadata": {
    "collapsed": false,
    "deletable": true,
    "editable": true
   },
   "outputs": [
    {
     "name": "stderr",
     "output_type": "stream",
     "text": [
      "/Users/devin/anaconda3/envs/aind-dog/lib/python3.5/site-packages/psycopg2/__init__.py:144: UserWarning: The psycopg2 wheel package will be renamed from release 2.8; in order to keep installing from binary please use \"pip install psycopg2-binary\" instead. For details see: <http://initd.org/psycopg/docs/install.html#binary-install-from-pypi>.\n",
      "  \"\"\")\n"
     ]
    }
   ],
   "source": [
    "engine = create_engine(\"postgresql://localhost:5432/gdax\")\n",
    "df = pd.read_sql_query(\"select * from orderbook where pair_string LIKE 'ETH-USD' order by created_at asc limit 1000\", con=engine)"
   ]
  },
  {
   "cell_type": "code",
   "execution_count": 3,
   "metadata": {
    "collapsed": false,
    "deletable": true,
    "editable": true
   },
   "outputs": [],
   "source": [
    "#[n['asks'] for n in df['data'][:10]]\n",
    "asks = df['data'].apply(lambda n: n['asks'])\n",
    "asks = asks.apply(lambda book: [[float(order_detail) for order_detail in order] for order in book])\n",
    "\n",
    "bids = df['data'].apply(lambda n: n['bids'])\n",
    "bids = bids.apply(lambda book: [[float(order_detail) for order_detail in order] for order in book])\n",
    "\n",
    "marketPrices = df['data'].apply(lambda n: (float(n['bids'][0][0]) + float(n['asks'][0][0]))/2)"
   ]
  },
  {
   "cell_type": "markdown",
   "metadata": {
    "deletable": true,
    "editable": true
   },
   "source": [
    "Example format\n",
    "\n",
    "df.iloc[0][2]['asks'][0]\n",
    "\n",
    "[ price, size, num-orders ],\n",
    "\n",
    "['894.89', '29.7307291', 22]"
   ]
  },
  {
   "cell_type": "code",
   "execution_count": 4,
   "metadata": {
    "collapsed": false,
    "deletable": true,
    "editable": true
   },
   "outputs": [
    {
     "data": {
      "text/plain": [
       "1000"
      ]
     },
     "execution_count": 4,
     "metadata": {},
     "output_type": "execute_result"
    }
   ],
   "source": [
    "len(asks)"
   ]
  },
  {
   "cell_type": "code",
   "execution_count": 5,
   "metadata": {
    "collapsed": false,
    "deletable": true,
    "editable": true
   },
   "outputs": [],
   "source": [
    "def getSplitVWAP(book):\n",
    "    return [getBookVWAP(bucket) for bucket in np.split(np.array(book), 5)]\n",
    "\n",
    "def getBookVWAP(book):\n",
    "    prices = np.array([order[0] for order in book])\n",
    "    sizes = np.array([order[1] for order in book])\n",
    "    return [(prices * sizes).sum() / sizes.sum(), sizes.sum()]"
   ]
  },
  {
   "cell_type": "code",
   "execution_count": 6,
   "metadata": {
    "collapsed": false,
    "deletable": true,
    "editable": true
   },
   "outputs": [],
   "source": [
    "asks_VWAP = pd.Series.apply(asks, getSplitVWAP)\n",
    "bids_VWAP = pd.Series.apply(bids, getSplitVWAP)"
   ]
  },
  {
   "cell_type": "code",
   "execution_count": 7,
   "metadata": {
    "collapsed": false,
    "deletable": true,
    "editable": true
   },
   "outputs": [
    {
     "data": {
      "text/plain": [
       "0      [[458.135374312, 32.10720375], [458.836725082,...\n",
       "1      [[458.090420186, 33.92031475], [458.82494187, ...\n",
       "2      [[458.087606853, 39.34031475], [458.782564024,...\n",
       "3      [[458.100037079, 17.496061], [458.816471342, 6...\n",
       "4      [[458.100037079, 17.496061], [458.84793458, 71...\n",
       "5      [[458.100037079, 17.496061], [458.816471342, 6...\n",
       "6      [[458.099803094, 17.480792], [458.812390376, 6...\n",
       "7      [[458.120247323, 10.232431], [458.761309889, 5...\n",
       "8      [[458.120247323, 10.232431], [458.761309889, 5...\n",
       "9      [[458.120467979, 10.187695], [458.706180574, 5...\n",
       "10     [[458.120467979, 10.187695], [458.992843398, 3...\n",
       "11     [[458.240143239, 0.266478], [459.014261914, 46...\n",
       "12     [[458.240143239, 0.266478], [459.014261914, 46...\n",
       "13     [[458.238193834, 0.268663], [459.006379955, 27...\n",
       "14     [[458.23066001, 0.244663], [459.005091314, 27....\n",
       "15     [[458.222598634, 0.222844], [458.999256519, 20...\n",
       "16     [[458.21206991, 0.233759], [458.987137319, 10....\n",
       "17     [[458.21206991, 0.233759], [458.987137319, 10....\n",
       "18     [[458.196958826, 0.238135], [458.617785088, 0....\n",
       "19     [[458.193938735, 0.254503], [458.617785088, 0....\n",
       "20     [[458.193938735, 0.254503], [458.617785088, 0....\n",
       "21     [[458.193938735, 0.254503], [458.617785088, 0....\n",
       "22     [[458.189994492, 0.279602], [458.617785088, 0....\n",
       "23     [[458.188348508, 0.291603], [458.617785088, 0....\n",
       "24     [[458.188348508, 0.291603], [458.617785088, 0....\n",
       "25     [[458.188348508, 0.291603], [458.617785088, 0....\n",
       "26     [[458.188348508, 0.291603], [458.617785088, 0....\n",
       "27     [[458.184133487, 0.327612], [458.617785088, 0....\n",
       "28     [[458.182927303, 0.339613], [458.818379275, 10...\n",
       "29     [[458.182927303, 0.339613], [458.818379275, 10...\n",
       "                             ...                        \n",
       "970    [[458.033564198, 105.74419908], [458.738249752...\n",
       "971    [[458.033564198, 105.74419908], [458.738249752...\n",
       "972    [[458.033020876, 105.89419908], [458.738249752...\n",
       "973    [[458.033564198, 105.74419908], [458.738249752...\n",
       "974    [[458.033794437, 105.73977808], [458.738249752...\n",
       "975    [[458.033794437, 105.73977808], [458.738249752...\n",
       "976    [[458.041728201, 114.59207808], [458.737933687...\n",
       "977    [[458.041728201, 114.59207808], [458.737933687...\n",
       "978    [[458.041728201, 114.59207808], [458.737933687...\n",
       "979    [[458.041728201, 114.59207808], [458.741512895...\n",
       "980    [[458.041728201, 114.59207808], [458.741512895...\n",
       "981    [[458.043152707, 114.17687808], [458.750895791...\n",
       "982    [[458.084326226, 123.17687808], [458.806421202...\n",
       "983    [[458.043152707, 114.17687808], [458.774628067...\n",
       "984    [[458.043152707, 114.17687808], [458.758474773...\n",
       "985    [[458.043152707, 114.17687808], [458.787448952...\n",
       "986    [[458.043152707, 114.17687808], [458.780479785...\n",
       "987    [[458.043152707, 114.17687808], [458.786017616...\n",
       "988    [[458.043152707, 114.17687808], [458.758379837...\n",
       "989    [[458.016118545, 107.22687808], [458.743964628...\n",
       "990    [[458.016118545, 107.22687808], [458.743964628...\n",
       "991    [[458.789952174, 176.18719275], [459.497878742...\n",
       "992    [[458.91979085, 65.55971574], [459.445114135, ...\n",
       "993    [[458.929884916, 68.98476274], [459.412854218,...\n",
       "994    [[458.99438284, 123.89276775], [459.540975507,...\n",
       "995    [[459.030008279, 118.94528275], [459.553381836...\n",
       "996    [[459.078350852, 25.85120609], [459.560464954,...\n",
       "997    [[459.106001273, 91.55758275], [459.521035121,...\n",
       "998    [[459.518128365, 124.23376594], [459.946322447...\n",
       "999    [[459.675576325, 193.89701794], [460.20629, 61...\n",
       "Name: data, dtype: object"
      ]
     },
     "execution_count": 7,
     "metadata": {},
     "output_type": "execute_result"
    }
   ],
   "source": [
    "asks_VWAP"
   ]
  },
  {
   "cell_type": "code",
   "execution_count": 8,
   "metadata": {
    "collapsed": false,
    "deletable": true,
    "editable": true
   },
   "outputs": [
    {
     "data": {
      "text/plain": [
       "0      [[457.838941501, 83.91149394], [457.352667502,...\n",
       "1      [[457.809270661, 93.43449394], [457.367483461,...\n",
       "2      [[457.809270661, 93.43449394], [457.352822101,...\n",
       "3      [[457.867618976, 100.95449394], [457.374018498...\n",
       "4      [[457.867618976, 100.95449394], [457.374018498...\n",
       "5      [[457.867618976, 100.95449394], [457.374018498...\n",
       "6      [[457.852034583, 93.51049394], [457.352617037,...\n",
       "7      [[457.852034583, 93.51049394], [457.352617037,...\n",
       "8      [[457.852034583, 93.51049394], [457.352617037,...\n",
       "9      [[457.999516355, 272.05997394], [457.342218524...\n",
       "10     [[458.015310292, 276.46949394], [457.360675358...\n",
       "11     [[458.062940758, 303.16109394], [457.408636403...\n",
       "12     [[458.070929444, 301.16109394], [457.441487304...\n",
       "13     [[458.070929444, 301.16109394], [457.480442528...\n",
       "14     [[458.094742809, 284.03009394], [457.502896576...\n",
       "15     [[458.070929444, 301.16109394], [457.480442528...\n",
       "16     [[458.070929444, 301.16109394], [457.480442528...\n",
       "17     [[458.070929444, 301.16109394], [457.480442528...\n",
       "18     [[457.888007473, 94.06177394], [457.459944353,...\n",
       "19     [[457.888007473, 94.06177394], [457.459944353,...\n",
       "20     [[457.888007473, 94.06177394], [457.459944353,...\n",
       "21     [[457.888007473, 94.06177394], [457.459944353,...\n",
       "22     [[457.892366385, 95.71747394], [457.463226487,...\n",
       "23     [[457.937683711, 126.04701394], [457.378305708...\n",
       "24     [[457.946865176, 122.72703394], [457.461892237...\n",
       "25     [[457.931562733, 129.39703394], [457.461892237...\n",
       "26     [[457.866918422, 87.13683394], [457.341667987,...\n",
       "27     [[457.856741147, 92.71683394], [457.35020286, ...\n",
       "28     [[457.837385775, 97.58683394], [457.344480252,...\n",
       "29     [[457.837385775, 97.58683394], [457.344480252,...\n",
       "                             ...                        \n",
       "970    [[457.629363913, 350.3489411], [456.990174815,...\n",
       "971    [[457.629363913, 350.3489411], [456.981519235,...\n",
       "972    [[457.629368464, 350.4989411], [456.990174815,...\n",
       "973    [[457.629363913, 350.3489411], [456.990174815,...\n",
       "974    [[457.629245642, 350.21540708], [456.978605564...\n",
       "975    [[457.629245642, 350.21540708], [456.980734307...\n",
       "976    [[457.629245642, 350.21540708], [456.980734307...\n",
       "977    [[457.629245642, 350.21540708], [456.980734307...\n",
       "978    [[457.629245642, 350.21540708], [456.98885245,...\n",
       "979    [[457.628383073, 360.90541235], [457.076017982...\n",
       "980    [[457.628383073, 360.90541235], [456.982315606...\n",
       "981    [[457.629140137, 346.81304235], [456.971145508...\n",
       "982    [[457.630258753, 346.46404235], [456.979654736...\n",
       "983    [[457.630254533, 346.31404235], [456.975095363...\n",
       "984    [[457.630257347, 346.41404235], [456.979654736...\n",
       "985    [[457.629177367, 348.00606235], [456.973482249...\n",
       "986    [[457.629564204, 360.90606235], [456.973482249...\n",
       "987    [[457.630315556, 388.90635235], [456.969461492...\n",
       "988    [[457.629206365, 348.94103235], [456.969461492...\n",
       "989    [[457.629469876, 357.6731001], [456.970093735,...\n",
       "990    [[457.629465458, 357.5231001], [456.970093735,...\n",
       "991    [[458.404585959, 98.35661489], [457.620766486,...\n",
       "992    [[458.414184853, 95.6055], [457.622353388, 293...\n",
       "993    [[458.545044945, 355.2645], [457.544254417, 49...\n",
       "994    [[458.537647965, 357.8645], [457.357371871, 41...\n",
       "995    [[458.537647965, 357.8645], [457.349394176, 41...\n",
       "996    [[458.649483148, 368.48160225], [457.627863476...\n",
       "997    [[458.526842308, 362.475221], [457.387031843, ...\n",
       "998    [[459.077808466, 424.8249], [457.718069338, 10...\n",
       "999    [[459.198531594, 423.66082908], [457.707539108...\n",
       "Name: data, dtype: object"
      ]
     },
     "execution_count": 8,
     "metadata": {},
     "output_type": "execute_result"
    }
   ],
   "source": [
    "bids_VWAP"
   ]
  },
  {
   "cell_type": "code",
   "execution_count": 9,
   "metadata": {
    "collapsed": false,
    "deletable": true,
    "editable": true
   },
   "outputs": [
    {
     "data": {
      "text/plain": [
       "0      458.095\n",
       "1      458.065\n",
       "2      458.065\n",
       "3      458.065\n",
       "4      458.065\n",
       "5      458.065\n",
       "6      458.065\n",
       "7      458.065\n",
       "8      458.065\n",
       "9      458.075\n",
       "10     458.075\n",
       "11     458.145\n",
       "12     458.145\n",
       "13     458.145\n",
       "14     458.145\n",
       "15     458.145\n",
       "16     458.145\n",
       "17     458.145\n",
       "18     458.145\n",
       "19     458.145\n",
       "20     458.145\n",
       "21     458.145\n",
       "22     458.145\n",
       "23     458.145\n",
       "24     458.145\n",
       "25     458.145\n",
       "26     458.145\n",
       "27     458.145\n",
       "28     458.145\n",
       "29     458.145\n",
       "        ...   \n",
       "970    457.645\n",
       "971    457.645\n",
       "972    457.645\n",
       "973    457.645\n",
       "974    457.645\n",
       "975    457.645\n",
       "976    457.645\n",
       "977    457.645\n",
       "978    457.645\n",
       "979    457.645\n",
       "980    457.645\n",
       "981    457.645\n",
       "982    457.645\n",
       "983    457.645\n",
       "984    457.645\n",
       "985    457.645\n",
       "986    457.645\n",
       "987    457.645\n",
       "988    457.645\n",
       "989    457.645\n",
       "990    457.645\n",
       "991    458.585\n",
       "992    458.585\n",
       "993    458.585\n",
       "994    458.585\n",
       "995    458.585\n",
       "996    458.985\n",
       "997    458.585\n",
       "998    459.265\n",
       "999    459.265\n",
       "Name: data, dtype: float64"
      ]
     },
     "execution_count": 9,
     "metadata": {},
     "output_type": "execute_result"
    }
   ],
   "source": [
    "marketPrices"
   ]
  },
  {
   "cell_type": "code",
   "execution_count": 11,
   "metadata": {
    "collapsed": false,
    "deletable": true,
    "editable": true
   },
   "outputs": [],
   "source": [
    "data = bids_VWAP + asks_VWAP"
   ]
  },
  {
   "cell_type": "code",
   "execution_count": 12,
   "metadata": {
    "collapsed": false,
    "deletable": true,
    "editable": true
   },
   "outputs": [
    {
     "data": {
      "text/plain": [
       "[[457.83894150120994, 83.911493940000014],\n",
       " [457.35266750212838, 65.909963380000008],\n",
       " [456.93632289319402, 193.24693372000002],\n",
       " [456.81556623679342, 12.50021269],\n",
       " [456.20939390966862, 91.77681595],\n",
       " [458.13537431175388, 32.107203750000004],\n",
       " [458.83672508161715, 77.286264999999986],\n",
       " [459.38518398425651, 89.594676010000001],\n",
       " [459.64004643709382, 34.854033000000001],\n",
       " [459.93487116512142, 112.68685438]]"
      ]
     },
     "execution_count": 12,
     "metadata": {},
     "output_type": "execute_result"
    }
   ],
   "source": [
    "data[0]"
   ]
  },
  {
   "cell_type": "code",
   "execution_count": 13,
   "metadata": {
    "collapsed": false,
    "deletable": true,
    "editable": true
   },
   "outputs": [
    {
     "name": "stderr",
     "output_type": "stream",
     "text": [
      "Using TensorFlow backend.\n"
     ]
    }
   ],
   "source": [
    "from keras.models import Sequential\n",
    "from keras.layers import Dense, Activation, LSTM"
   ]
  },
  {
   "cell_type": "code",
   "execution_count": 22,
   "metadata": {
    "collapsed": false,
    "deletable": true,
    "editable": true
   },
   "outputs": [],
   "source": [
    "model = Sequential()\n",
    "model.add(LSTM(32, input_shape=(5, 2)))\n",
    "model.add(Dense(1))\n",
    "model.compile(loss='sparse_categorical_crossentropy',\n",
    "                  optimizer='Adam',\n",
    "                  metrics=['accuracy'])"
   ]
  },
  {
   "cell_type": "code",
   "execution_count": 27,
   "metadata": {
    "collapsed": false
   },
   "outputs": [
    {
     "ename": "ValueError",
     "evalue": "cannot reshape array of size 1000 into shape (200,5,2)",
     "output_type": "error",
     "traceback": [
      "\u001b[0;31m---------------------------------------------------------------------------\u001b[0m",
      "\u001b[0;31mValueError\u001b[0m                                Traceback (most recent call last)",
      "\u001b[0;32m<ipython-input-27-13946696401c>\u001b[0m in \u001b[0;36m<module>\u001b[0;34m()\u001b[0m\n\u001b[0;32m----> 1\u001b[0;31m \u001b[0mtime_series\u001b[0m \u001b[0;34m=\u001b[0m \u001b[0mnp\u001b[0m\u001b[0;34m.\u001b[0m\u001b[0marray\u001b[0m\u001b[0;34m(\u001b[0m\u001b[0mdata\u001b[0m\u001b[0;34m)\u001b[0m\u001b[0;34m.\u001b[0m\u001b[0mreshape\u001b[0m\u001b[0;34m(\u001b[0m\u001b[0;36m200\u001b[0m\u001b[0;34m,\u001b[0m\u001b[0;36m5\u001b[0m\u001b[0;34m,\u001b[0m\u001b[0;36m2\u001b[0m\u001b[0;34m)\u001b[0m\u001b[0;34m\u001b[0m\u001b[0m\n\u001b[0m",
      "\u001b[0;31mValueError\u001b[0m: cannot reshape array of size 1000 into shape (200,5,2)"
     ]
    }
   ],
   "source": [
    "time_series = np.array(data).reshape(200,5,2)"
   ]
  },
  {
   "cell_type": "code",
   "execution_count": 24,
   "metadata": {
    "collapsed": false
   },
   "outputs": [],
   "source": [
    "price_array = np.array(marketPrices[0:-1:5]).reshape(200,1)"
   ]
  },
  {
   "cell_type": "code",
   "execution_count": 25,
   "metadata": {
    "collapsed": false
   },
   "outputs": [
    {
     "data": {
      "text/plain": [
       "array([ 458.095])"
      ]
     },
     "execution_count": 25,
     "metadata": {},
     "output_type": "execute_result"
    }
   ],
   "source": [
    "price_array[0]"
   ]
  },
  {
   "cell_type": "code",
   "execution_count": 26,
   "metadata": {
    "collapsed": false
   },
   "outputs": [
    {
     "name": "stdout",
     "output_type": "stream",
     "text": [
      "Train on 160 samples, validate on 40 samples\n",
      "Epoch 1/1\n"
     ]
    },
    {
     "ename": "ValueError",
     "evalue": "setting an array element with a sequence.",
     "output_type": "error",
     "traceback": [
      "\u001b[0;31m---------------------------------------------------------------------------\u001b[0m",
      "\u001b[0;31mValueError\u001b[0m                                Traceback (most recent call last)",
      "\u001b[0;32m<ipython-input-26-dc8ba3b0d27a>\u001b[0m in \u001b[0;36m<module>\u001b[0;34m()\u001b[0m\n\u001b[0;32m----> 1\u001b[0;31m \u001b[0mmodel\u001b[0m\u001b[0;34m.\u001b[0m\u001b[0mfit\u001b[0m\u001b[0;34m(\u001b[0m\u001b[0mtime_series\u001b[0m\u001b[0;34m,\u001b[0m \u001b[0mprice_array\u001b[0m\u001b[0;34m,\u001b[0m \u001b[0mbatch_size\u001b[0m\u001b[0;34m=\u001b[0m\u001b[0;36m1024\u001b[0m\u001b[0;34m,\u001b[0m \u001b[0mepochs\u001b[0m\u001b[0;34m=\u001b[0m\u001b[0;36m1\u001b[0m\u001b[0;34m,\u001b[0m \u001b[0mvalidation_split\u001b[0m\u001b[0;34m=\u001b[0m\u001b[0;36m0.2\u001b[0m\u001b[0;34m)\u001b[0m\u001b[0;34m\u001b[0m\u001b[0m\n\u001b[0m",
      "\u001b[0;32m/Users/devin/anaconda3/envs/aind-dog/lib/python3.5/site-packages/keras/models.py\u001b[0m in \u001b[0;36mfit\u001b[0;34m(self, x, y, batch_size, epochs, verbose, callbacks, validation_split, validation_data, shuffle, class_weight, sample_weight, initial_epoch, **kwargs)\u001b[0m\n\u001b[1;32m    843\u001b[0m                               \u001b[0mclass_weight\u001b[0m\u001b[0;34m=\u001b[0m\u001b[0mclass_weight\u001b[0m\u001b[0;34m,\u001b[0m\u001b[0;34m\u001b[0m\u001b[0m\n\u001b[1;32m    844\u001b[0m                               \u001b[0msample_weight\u001b[0m\u001b[0;34m=\u001b[0m\u001b[0msample_weight\u001b[0m\u001b[0;34m,\u001b[0m\u001b[0;34m\u001b[0m\u001b[0m\n\u001b[0;32m--> 845\u001b[0;31m                               initial_epoch=initial_epoch)\n\u001b[0m\u001b[1;32m    846\u001b[0m \u001b[0;34m\u001b[0m\u001b[0m\n\u001b[1;32m    847\u001b[0m     def evaluate(self, x, y, batch_size=32, verbose=1,\n",
      "\u001b[0;32m/Users/devin/anaconda3/envs/aind-dog/lib/python3.5/site-packages/keras/engine/training.py\u001b[0m in \u001b[0;36mfit\u001b[0;34m(self, x, y, batch_size, epochs, verbose, callbacks, validation_split, validation_data, shuffle, class_weight, sample_weight, initial_epoch, **kwargs)\u001b[0m\n\u001b[1;32m   1483\u001b[0m                               \u001b[0mval_f\u001b[0m\u001b[0;34m=\u001b[0m\u001b[0mval_f\u001b[0m\u001b[0;34m,\u001b[0m \u001b[0mval_ins\u001b[0m\u001b[0;34m=\u001b[0m\u001b[0mval_ins\u001b[0m\u001b[0;34m,\u001b[0m \u001b[0mshuffle\u001b[0m\u001b[0;34m=\u001b[0m\u001b[0mshuffle\u001b[0m\u001b[0;34m,\u001b[0m\u001b[0;34m\u001b[0m\u001b[0m\n\u001b[1;32m   1484\u001b[0m                               \u001b[0mcallback_metrics\u001b[0m\u001b[0;34m=\u001b[0m\u001b[0mcallback_metrics\u001b[0m\u001b[0;34m,\u001b[0m\u001b[0;34m\u001b[0m\u001b[0m\n\u001b[0;32m-> 1485\u001b[0;31m                               initial_epoch=initial_epoch)\n\u001b[0m\u001b[1;32m   1486\u001b[0m \u001b[0;34m\u001b[0m\u001b[0m\n\u001b[1;32m   1487\u001b[0m     \u001b[0;32mdef\u001b[0m \u001b[0mevaluate\u001b[0m\u001b[0;34m(\u001b[0m\u001b[0mself\u001b[0m\u001b[0;34m,\u001b[0m \u001b[0mx\u001b[0m\u001b[0;34m,\u001b[0m \u001b[0my\u001b[0m\u001b[0;34m,\u001b[0m \u001b[0mbatch_size\u001b[0m\u001b[0;34m=\u001b[0m\u001b[0;36m32\u001b[0m\u001b[0;34m,\u001b[0m \u001b[0mverbose\u001b[0m\u001b[0;34m=\u001b[0m\u001b[0;36m1\u001b[0m\u001b[0;34m,\u001b[0m \u001b[0msample_weight\u001b[0m\u001b[0;34m=\u001b[0m\u001b[0;32mNone\u001b[0m\u001b[0;34m)\u001b[0m\u001b[0;34m:\u001b[0m\u001b[0;34m\u001b[0m\u001b[0m\n",
      "\u001b[0;32m/Users/devin/anaconda3/envs/aind-dog/lib/python3.5/site-packages/keras/engine/training.py\u001b[0m in \u001b[0;36m_fit_loop\u001b[0;34m(self, f, ins, out_labels, batch_size, epochs, verbose, callbacks, val_f, val_ins, shuffle, callback_metrics, initial_epoch)\u001b[0m\n\u001b[1;32m   1138\u001b[0m                 \u001b[0mbatch_logs\u001b[0m\u001b[0;34m[\u001b[0m\u001b[0;34m'size'\u001b[0m\u001b[0;34m]\u001b[0m \u001b[0;34m=\u001b[0m \u001b[0mlen\u001b[0m\u001b[0;34m(\u001b[0m\u001b[0mbatch_ids\u001b[0m\u001b[0;34m)\u001b[0m\u001b[0;34m\u001b[0m\u001b[0m\n\u001b[1;32m   1139\u001b[0m                 \u001b[0mcallbacks\u001b[0m\u001b[0;34m.\u001b[0m\u001b[0mon_batch_begin\u001b[0m\u001b[0;34m(\u001b[0m\u001b[0mbatch_index\u001b[0m\u001b[0;34m,\u001b[0m \u001b[0mbatch_logs\u001b[0m\u001b[0;34m)\u001b[0m\u001b[0;34m\u001b[0m\u001b[0m\n\u001b[0;32m-> 1140\u001b[0;31m                 \u001b[0mouts\u001b[0m \u001b[0;34m=\u001b[0m \u001b[0mf\u001b[0m\u001b[0;34m(\u001b[0m\u001b[0mins_batch\u001b[0m\u001b[0;34m)\u001b[0m\u001b[0;34m\u001b[0m\u001b[0m\n\u001b[0m\u001b[1;32m   1141\u001b[0m                 \u001b[0;32mif\u001b[0m \u001b[0;32mnot\u001b[0m \u001b[0misinstance\u001b[0m\u001b[0;34m(\u001b[0m\u001b[0mouts\u001b[0m\u001b[0;34m,\u001b[0m \u001b[0mlist\u001b[0m\u001b[0;34m)\u001b[0m\u001b[0;34m:\u001b[0m\u001b[0;34m\u001b[0m\u001b[0m\n\u001b[1;32m   1142\u001b[0m                     \u001b[0mouts\u001b[0m \u001b[0;34m=\u001b[0m \u001b[0;34m[\u001b[0m\u001b[0mouts\u001b[0m\u001b[0;34m]\u001b[0m\u001b[0;34m\u001b[0m\u001b[0m\n",
      "\u001b[0;32m/Users/devin/anaconda3/envs/aind-dog/lib/python3.5/site-packages/keras/backend/tensorflow_backend.py\u001b[0m in \u001b[0;36m__call__\u001b[0;34m(self, inputs)\u001b[0m\n\u001b[1;32m   2073\u001b[0m         \u001b[0msession\u001b[0m \u001b[0;34m=\u001b[0m \u001b[0mget_session\u001b[0m\u001b[0;34m(\u001b[0m\u001b[0;34m)\u001b[0m\u001b[0;34m\u001b[0m\u001b[0m\n\u001b[1;32m   2074\u001b[0m         updated = session.run(self.outputs + [self.updates_op],\n\u001b[0;32m-> 2075\u001b[0;31m                               feed_dict=feed_dict)\n\u001b[0m\u001b[1;32m   2076\u001b[0m         \u001b[0;32mreturn\u001b[0m \u001b[0mupdated\u001b[0m\u001b[0;34m[\u001b[0m\u001b[0;34m:\u001b[0m\u001b[0mlen\u001b[0m\u001b[0;34m(\u001b[0m\u001b[0mself\u001b[0m\u001b[0;34m.\u001b[0m\u001b[0moutputs\u001b[0m\u001b[0;34m)\u001b[0m\u001b[0;34m]\u001b[0m\u001b[0;34m\u001b[0m\u001b[0m\n\u001b[1;32m   2077\u001b[0m \u001b[0;34m\u001b[0m\u001b[0m\n",
      "\u001b[0;32m/Users/devin/anaconda3/envs/aind-dog/lib/python3.5/site-packages/tensorflow/python/client/session.py\u001b[0m in \u001b[0;36mrun\u001b[0;34m(self, fetches, feed_dict, options, run_metadata)\u001b[0m\n\u001b[1;32m    787\u001b[0m     \u001b[0;32mtry\u001b[0m\u001b[0;34m:\u001b[0m\u001b[0;34m\u001b[0m\u001b[0m\n\u001b[1;32m    788\u001b[0m       result = self._run(None, fetches, feed_dict, options_ptr,\n\u001b[0;32m--> 789\u001b[0;31m                          run_metadata_ptr)\n\u001b[0m\u001b[1;32m    790\u001b[0m       \u001b[0;32mif\u001b[0m \u001b[0mrun_metadata\u001b[0m\u001b[0;34m:\u001b[0m\u001b[0;34m\u001b[0m\u001b[0m\n\u001b[1;32m    791\u001b[0m         \u001b[0mproto_data\u001b[0m \u001b[0;34m=\u001b[0m \u001b[0mtf_session\u001b[0m\u001b[0;34m.\u001b[0m\u001b[0mTF_GetBuffer\u001b[0m\u001b[0;34m(\u001b[0m\u001b[0mrun_metadata_ptr\u001b[0m\u001b[0;34m)\u001b[0m\u001b[0;34m\u001b[0m\u001b[0m\n",
      "\u001b[0;32m/Users/devin/anaconda3/envs/aind-dog/lib/python3.5/site-packages/tensorflow/python/client/session.py\u001b[0m in \u001b[0;36m_run\u001b[0;34m(self, handle, fetches, feed_dict, options, run_metadata)\u001b[0m\n\u001b[1;32m    966\u001b[0m             \u001b[0mfeed_handles\u001b[0m\u001b[0;34m[\u001b[0m\u001b[0msubfeed_name\u001b[0m\u001b[0;34m]\u001b[0m \u001b[0;34m=\u001b[0m \u001b[0msubfeed_val\u001b[0m\u001b[0;34m\u001b[0m\u001b[0m\n\u001b[1;32m    967\u001b[0m           \u001b[0;32melse\u001b[0m\u001b[0;34m:\u001b[0m\u001b[0;34m\u001b[0m\u001b[0m\n\u001b[0;32m--> 968\u001b[0;31m             \u001b[0mnp_val\u001b[0m \u001b[0;34m=\u001b[0m \u001b[0mnp\u001b[0m\u001b[0;34m.\u001b[0m\u001b[0masarray\u001b[0m\u001b[0;34m(\u001b[0m\u001b[0msubfeed_val\u001b[0m\u001b[0;34m,\u001b[0m \u001b[0mdtype\u001b[0m\u001b[0;34m=\u001b[0m\u001b[0msubfeed_dtype\u001b[0m\u001b[0;34m)\u001b[0m\u001b[0;34m\u001b[0m\u001b[0m\n\u001b[0m\u001b[1;32m    969\u001b[0m \u001b[0;34m\u001b[0m\u001b[0m\n\u001b[1;32m    970\u001b[0m           if (not is_tensor_handle_feed and\n",
      "\u001b[0;32m/Users/devin/anaconda3/envs/aind-dog/lib/python3.5/site-packages/numpy/core/numeric.py\u001b[0m in \u001b[0;36masarray\u001b[0;34m(a, dtype, order)\u001b[0m\n\u001b[1;32m    529\u001b[0m \u001b[0;34m\u001b[0m\u001b[0m\n\u001b[1;32m    530\u001b[0m     \"\"\"\n\u001b[0;32m--> 531\u001b[0;31m     \u001b[0;32mreturn\u001b[0m \u001b[0marray\u001b[0m\u001b[0;34m(\u001b[0m\u001b[0ma\u001b[0m\u001b[0;34m,\u001b[0m \u001b[0mdtype\u001b[0m\u001b[0;34m,\u001b[0m \u001b[0mcopy\u001b[0m\u001b[0;34m=\u001b[0m\u001b[0;32mFalse\u001b[0m\u001b[0;34m,\u001b[0m \u001b[0morder\u001b[0m\u001b[0;34m=\u001b[0m\u001b[0morder\u001b[0m\u001b[0;34m)\u001b[0m\u001b[0;34m\u001b[0m\u001b[0m\n\u001b[0m\u001b[1;32m    532\u001b[0m \u001b[0;34m\u001b[0m\u001b[0m\n\u001b[1;32m    533\u001b[0m \u001b[0;34m\u001b[0m\u001b[0m\n",
      "\u001b[0;31mValueError\u001b[0m: setting an array element with a sequence."
     ]
    }
   ],
   "source": [
    "model.fit(time_series, price_array, batch_size=1024, epochs=1, validation_split=0.2)"
   ]
  },
  {
   "cell_type": "code",
   "execution_count": 31,
   "metadata": {
    "collapsed": false
   },
   "outputs": [
    {
     "data": {
      "text/plain": [
       "array([[ list([[457.83894150120994, 83.911493940000014], [457.35266750212838, 65.909963380000008], [456.93632289319402, 193.24693372000002], [456.81556623679342, 12.50021269], [456.20939390966862, 91.77681595], [458.13537431175388, 32.107203750000004], [458.83672508161715, 77.286264999999986], [459.38518398425651, 89.594676010000001], [459.64004643709382, 34.854033000000001], [459.93487116512142, 112.68685438]])],\n",
       "       [ list([[457.80927066125446, 93.434493939999996], [457.36748346097306, 79.320963379999995], [456.92793638746997, 194.58905458000004], [456.62234050875293, 6.3146918300000001], [456.14901099167395, 138.28840595999998], [458.09042018632795, 33.92031475000001], [458.82494187015033, 76.255400999999992], [459.38246060814902, 89.594676010000001], [459.77209634165843, 87.184946389999993], [460.02141754381665, 120.31227599]])],\n",
       "       [ list([[457.80927066125446, 93.434493939999996], [457.35282210137683, 65.980963380000006], [456.92866713764784, 194.55893372000003], [456.62384372023399, 6.30341269], [456.20299824698498, 92.639905949999985], [458.08760685322164, 39.340314750000005], [458.78256402419117, 61.255400999999992], [459.34340061341726, 85.68271501000001], [459.57988700014556, 36.254028999999996], [459.93612830898894, 166.35115438]])],\n",
       "       [ list([[457.86761897639593, 100.95449394000001], [457.37401849830837, 78.197996039999992], [456.9339952638644, 197.71902192000002], [456.56224431891565, 4.3046918299999994], [456.14901099167395, 138.28840595999998], [458.10003707863154, 17.496061000000001], [458.81647134223033, 62.567900999999992], [459.3621941152233, 95.582715010000015], [459.77208673547966, 87.184948390000002], [460.02225590153415, 124.53997598999999]])],\n",
       "       [ list([[457.86761897639593, 100.95449394000001], [457.37401849830837, 78.197996039999992], [456.9339952638644, 197.71902192000002], [456.56224431891565, 4.3046918299999994], [456.14901099167395, 138.28840595999998], [458.10003707863154, 17.496061000000001], [458.84793458047631, 71.567900999999992], [459.41846975437335, 80.594676010000001], [459.84424351331029, 137.17298739], [460.13460159791674, 94.043975990000007]])]], dtype=object)"
      ]
     },
     "execution_count": 31,
     "metadata": {},
     "output_type": "execute_result"
    }
   ],
   "source": [
    "time_series[0]"
   ]
  },
  {
   "cell_type": "code",
   "execution_count": null,
   "metadata": {
    "collapsed": true
   },
   "outputs": [],
   "source": []
  }
 ],
 "metadata": {
  "kernelspec": {
   "display_name": "Python 3",
   "language": "python",
   "name": "python3"
  },
  "language_info": {
   "codemirror_mode": {
    "name": "ipython",
    "version": 3
   },
   "file_extension": ".py",
   "mimetype": "text/x-python",
   "name": "python",
   "nbconvert_exporter": "python",
   "pygments_lexer": "ipython3",
   "version": "3.5.3"
  }
 },
 "nbformat": 4,
 "nbformat_minor": 2
}
