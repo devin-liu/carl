{
 "cells": [
  {
   "cell_type": "code",
   "execution_count": 1,
   "metadata": {
    "collapsed": false,
    "deletable": true,
    "editable": true
   },
   "outputs": [],
   "source": [
    "import pandas as pd\n",
    "import numpy as np\n",
    "from sqlalchemy import create_engine"
   ]
  },
  {
   "cell_type": "code",
   "execution_count": null,
   "metadata": {
    "collapsed": false,
    "deletable": true,
    "editable": true
   },
   "outputs": [],
   "source": [
    "engine = create_engine(\"postgresql://localhost:5432/gdax\")\n",
    "df = pd.read_sql_query(\"select * from orderbook where pair_string LIKE 'ETH-USD' order by created_at asc limit 50000\", con=engine)"
   ]
  },
  {
   "cell_type": "code",
   "execution_count": 230,
   "metadata": {
    "collapsed": false,
    "deletable": true,
    "editable": true
   },
   "outputs": [],
   "source": [
    "def convertBookNumbersToFloat(book):\n",
    "    return [[float(order_detail) for order_detail in order] for order in book]\n",
    "\n",
    "def getMarketPrices(n):\n",
    "    return [np.average([float(n['bids'][0][0]) , float(n['asks'][0][0])])]     \n",
    "\n",
    "def getMarketPricesAndSize(n):\n",
    "    return [np.average([float(n['bids'][0][0]) , float(n['asks'][0][0])]), np.average([float(n['bids'][0][1]) , float(n['asks'][0][1])])] \n",
    "asks = df['data'].apply(lambda n: n['asks'])\n",
    "asks = asks.apply(convertBookNumbersToFloat)\n",
    "\n",
    "bids = df['data'].apply(lambda n: n['bids'])\n",
    "bids = bids.apply(convertBookNumbersToFloat)\n",
    "\n",
    "marketPrices = df['data'].apply(getMarketPrices)"
   ]
  },
  {
   "cell_type": "markdown",
   "metadata": {
    "deletable": true,
    "editable": true
   },
   "source": [
    "Example format\n",
    "\n",
    "df.iloc[0][2]['asks'][0]\n",
    "\n",
    "[ price, size, num-orders ],\n",
    "\n",
    "['894.89', '29.7307291', 22]"
   ]
  },
  {
   "cell_type": "code",
   "execution_count": 231,
   "metadata": {
    "collapsed": false,
    "deletable": true,
    "editable": true
   },
   "outputs": [
    {
     "data": {
      "text/plain": [
       "1.5"
      ]
     },
     "execution_count": 231,
     "metadata": {},
     "output_type": "execute_result"
    }
   ],
   "source": [
    "np.average([1,2])"
   ]
  },
  {
   "cell_type": "code",
   "execution_count": 232,
   "metadata": {
    "collapsed": false,
    "deletable": true,
    "editable": true
   },
   "outputs": [],
   "source": [
    "def getSplitVWAP(book):\n",
    "    return [getBookVWAPAndSize(bucket) for bucket in np.split(np.array(book), 5)]\n",
    "\n",
    "def getBookVWAP(book):\n",
    "    prices = np.array([order[0] for order in book])\n",
    "    sizes = np.array([order[1] for order in book])\n",
    "    return [(prices * sizes).sum() / sizes.sum()]\n",
    "\n",
    "def getBookVWAPAndSize(book):\n",
    "    prices = np.array([order[0] for order in book])\n",
    "    sizes = np.array([order[1] for order in book])\n",
    "    return [(prices * sizes).sum() / sizes.sum(), sizes.sum()]"
   ]
  },
  {
   "cell_type": "code",
   "execution_count": 233,
   "metadata": {
    "collapsed": false,
    "deletable": true,
    "editable": true
   },
   "outputs": [],
   "source": [
    "asks_VWAP = pd.Series.apply(asks, getSplitVWAP)\n",
    "bids_VWAP = pd.Series.apply(bids, getSplitVWAP)"
   ]
  },
  {
   "cell_type": "code",
   "execution_count": 234,
   "metadata": {
    "collapsed": false,
    "deletable": true,
    "editable": true
   },
   "outputs": [
    {
     "data": {
      "text/plain": [
       "[[458.13537431175388, 32.107203750000004],\n",
       " [458.83672508161715, 77.286264999999986],\n",
       " [459.38518398425651, 89.594676010000001],\n",
       " [459.64004643709382, 34.854033000000001],\n",
       " [459.93487116512142, 112.68685438]]"
      ]
     },
     "execution_count": 234,
     "metadata": {},
     "output_type": "execute_result"
    }
   ],
   "source": [
    "asks_VWAP[0]"
   ]
  },
  {
   "cell_type": "code",
   "execution_count": 235,
   "metadata": {
    "collapsed": false,
    "deletable": true,
    "editable": true
   },
   "outputs": [
    {
     "data": {
      "text/plain": [
       "[[457.83894150120994, 83.911493940000014],\n",
       " [457.35266750212838, 65.909963380000008],\n",
       " [456.93632289319402, 193.24693372000002],\n",
       " [456.81556623679342, 12.50021269],\n",
       " [456.20939390966862, 91.77681595]]"
      ]
     },
     "execution_count": 235,
     "metadata": {},
     "output_type": "execute_result"
    }
   ],
   "source": [
    "bids_VWAP[0]"
   ]
  },
  {
   "cell_type": "code",
   "execution_count": 236,
   "metadata": {
    "collapsed": false,
    "deletable": true,
    "editable": true
   },
   "outputs": [
    {
     "data": {
      "text/plain": [
       "[458.09500000000003]"
      ]
     },
     "execution_count": 236,
     "metadata": {},
     "output_type": "execute_result"
    }
   ],
   "source": [
    "marketPrices[0]"
   ]
  },
  {
   "cell_type": "code",
   "execution_count": 237,
   "metadata": {
    "collapsed": false,
    "deletable": true,
    "editable": true
   },
   "outputs": [],
   "source": [
    "data = np.array(np.array(bids_VWAP + asks_VWAP).tolist())"
   ]
  },
  {
   "cell_type": "code",
   "execution_count": 238,
   "metadata": {
    "collapsed": false
   },
   "outputs": [
    {
     "data": {
      "text/plain": [
       "array([[[ 0.,  0.],\n",
       "        [ 0.,  0.],\n",
       "        [ 0.,  0.],\n",
       "        [ 0.,  0.],\n",
       "        [ 0.,  0.],\n",
       "        [ 0.,  0.],\n",
       "        [ 0.,  0.],\n",
       "        [ 0.,  0.],\n",
       "        [ 0.,  0.],\n",
       "        [ 0.,  0.]]])"
      ]
     },
     "execution_count": 238,
     "metadata": {},
     "output_type": "execute_result"
    }
   ],
   "source": [
    "np.zeros((1, 10,2))"
   ]
  },
  {
   "cell_type": "code",
   "execution_count": 239,
   "metadata": {
    "collapsed": false
   },
   "outputs": [
    {
     "data": {
      "text/plain": [
       "(1000, 10, 2)"
      ]
     },
     "execution_count": 239,
     "metadata": {},
     "output_type": "execute_result"
    }
   ],
   "source": [
    "np.array(data).shape"
   ]
  },
  {
   "cell_type": "code",
   "execution_count": 252,
   "metadata": {
    "collapsed": false,
    "deletable": true,
    "editable": true
   },
   "outputs": [],
   "source": [
    "time_series = data\n",
    "time_series.shape = (200,5,10,2)\n",
    "# sliced_prices = np.array(marketPrices.diff()[0:-1:5].tolist())\n",
    "sliced_prices = np.diff(np.array([n[0] for n in marketPrices]))[0:-1:5]"
   ]
  },
  {
   "cell_type": "code",
   "execution_count": 253,
   "metadata": {
    "collapsed": false
   },
   "outputs": [
    {
     "name": "stdout",
     "output_type": "stream",
     "text": [
      "(5, 10, 2)\n",
      "(10, 2)\n",
      "(200,)\n",
      "[[[ 0.  0.  0.  0.]\n",
      "  [ 0.  0.  0.  0.]\n",
      "  [ 0.  0.  0.  0.]]\n",
      "\n",
      " [[ 0.  0.  0.  0.]\n",
      "  [ 0.  0.  0.  0.]\n",
      "  [ 0.  0.  0.  0.]]]\n"
     ]
    }
   ],
   "source": [
    "print(np.array(time_series[0]).shape)\n",
    "print(np.array(time_series[0][0]).shape)\n",
    "print(sliced_prices.shape)\n",
    "print(np.zeros((2, 3, 4)))"
   ]
  },
  {
   "cell_type": "code",
   "execution_count": 320,
   "metadata": {
    "collapsed": false,
    "deletable": true,
    "editable": true
   },
   "outputs": [],
   "source": [
    "from keras.models import Sequential\n",
    "from keras.layers import Dense, Activation, LSTM, Conv1D, Flatten, TimeDistributed"
   ]
  },
  {
   "cell_type": "code",
   "execution_count": 339,
   "metadata": {
    "collapsed": false,
    "deletable": true,
    "editable": true
   },
   "outputs": [],
   "source": [
    "model = Sequential()\n",
    "model.add(TimeDistributed(Conv1D(2, 2, activation='relu'), input_shape=(5, 10, 2)))\n",
    "model.add(Flatten())\n",
    "model.add(Dense(50))\n",
    "model.add(Dense(1))\n",
    "model.compile(loss='sparse_categorical_crossentropy',\n",
    "                  optimizer='Adam',\n",
    "                  metrics=['accuracy'])"
   ]
  },
  {
   "cell_type": "code",
   "execution_count": 340,
   "metadata": {
    "collapsed": false,
    "deletable": true,
    "editable": true
   },
   "outputs": [
    {
     "name": "stdout",
     "output_type": "stream",
     "text": [
      "Train on 150 samples, validate on 50 samples\n",
      "Epoch 1/5\n",
      "150/150 [==============================] - 1s - loss: 0.0000e+00 - acc: 0.0000e+00 - val_loss: 0.0000e+00 - val_acc: 0.0000e+00\b\b\b\b\b\b\b\b\b\b\b\b\b\b\b\b\b\b\b\b\b\b\b\b\b\b\b\b\b\b\b\b\b\b\b\b\b\b\b\b\b\b\b\b\b\b\b\n",
      "Epoch 2/5\n",
      "150/150 [==============================] - 0s - loss: 0.0000e+00 - acc: 0.0000e+00 - val_loss: 0.0000e+00 - val_acc: 0.0000e+00\b\b\b\b\b\b\b\b\b\b\b\b\b\b\b\b\b\b\b\b\b\b\b\b\b\b\b\b\b\b\b\b\b\b\b\b\b\b\b\b\b\b\b\b\b\b\b\n",
      "Epoch 3/5\n",
      "150/150 [==============================] - 0s - loss: 0.0000e+00 - acc: 0.0000e+00 - val_loss: 0.0000e+00 - val_acc: 0.0000e+00\b\b\b\b\b\b\b\b\b\b\b\b\b\b\b\b\b\b\b\b\b\b\b\b\b\b\b\b\b\b\b\b\b\b\b\b\b\b\b\b\b\b\b\b\b\b\b\n",
      "Epoch 4/5\n",
      "150/150 [==============================] - 0s - loss: 0.0000e+00 - acc: 0.0000e+00 - val_loss: 0.0000e+00 - val_acc: 0.0000e+00\b\b\b\b\b\b\b\b\b\b\b\b\b\b\b\b\b\b\b\b\b\b\b\b\b\b\b\b\b\b\b\b\b\b\b\b\b\b\b\b\b\b\b\b\b\b\b\n",
      "Epoch 5/5\n",
      "150/150 [==============================] - 0s - loss: 0.0000e+00 - acc: 0.0000e+00 - val_loss: 0.0000e+00 - val_acc: 0.0000e+00\b\b\b\b\b\b\b\b\b\b\b\b\b\b\b\b\b\b\b\b\b\b\b\b\b\b\b\b\b\b\b\b\b\b\b\b\b\b\b\b\b\b\b\b\b\b\b\n"
     ]
    },
    {
     "data": {
      "text/plain": [
       "<keras.callbacks.History at 0x12ce3eda0>"
      ]
     },
     "execution_count": 340,
     "metadata": {},
     "output_type": "execute_result"
    }
   ],
   "source": [
    "model.fit(time_series, sliced_prices, batch_size=100, epochs=5, validation_split=0.25)"
   ]
  },
  {
   "cell_type": "code",
   "execution_count": 341,
   "metadata": {
    "collapsed": false,
    "deletable": true,
    "editable": true
   },
   "outputs": [
    {
     "data": {
      "text/plain": [
       "array([[[ 457.8389415 ,   83.91149394],\n",
       "        [ 457.3526675 ,   65.90996338],\n",
       "        [ 456.93632289,  193.24693372],\n",
       "        [ 456.81556624,   12.50021269],\n",
       "        [ 456.20939391,   91.77681595],\n",
       "        [ 458.13537431,   32.10720375],\n",
       "        [ 458.83672508,   77.286265  ],\n",
       "        [ 459.38518398,   89.59467601],\n",
       "        [ 459.64004644,   34.854033  ],\n",
       "        [ 459.93487117,  112.68685438]],\n",
       "\n",
       "       [[ 457.80927066,   93.43449394],\n",
       "        [ 457.36748346,   79.32096338],\n",
       "        [ 456.92793639,  194.58905458],\n",
       "        [ 456.62234051,    6.31469183],\n",
       "        [ 456.14901099,  138.28840596],\n",
       "        [ 458.09042019,   33.92031475],\n",
       "        [ 458.82494187,   76.255401  ],\n",
       "        [ 459.38246061,   89.59467601],\n",
       "        [ 459.77209634,   87.18494639],\n",
       "        [ 460.02141754,  120.31227599]],\n",
       "\n",
       "       [[ 457.80927066,   93.43449394],\n",
       "        [ 457.3528221 ,   65.98096338],\n",
       "        [ 456.92866714,  194.55893372],\n",
       "        [ 456.62384372,    6.30341269],\n",
       "        [ 456.20299825,   92.63990595],\n",
       "        [ 458.08760685,   39.34031475],\n",
       "        [ 458.78256402,   61.255401  ],\n",
       "        [ 459.34340061,   85.68271501],\n",
       "        [ 459.579887  ,   36.254029  ],\n",
       "        [ 459.93612831,  166.35115438]],\n",
       "\n",
       "       [[ 457.86761898,  100.95449394],\n",
       "        [ 457.3740185 ,   78.19799604],\n",
       "        [ 456.93399526,  197.71902192],\n",
       "        [ 456.56224432,    4.30469183],\n",
       "        [ 456.14901099,  138.28840596],\n",
       "        [ 458.10003708,   17.496061  ],\n",
       "        [ 458.81647134,   62.567901  ],\n",
       "        [ 459.36219412,   95.58271501],\n",
       "        [ 459.77208674,   87.18494839],\n",
       "        [ 460.0222559 ,  124.53997599]],\n",
       "\n",
       "       [[ 457.86761898,  100.95449394],\n",
       "        [ 457.3740185 ,   78.19799604],\n",
       "        [ 456.93399526,  197.71902192],\n",
       "        [ 456.56224432,    4.30469183],\n",
       "        [ 456.14901099,  138.28840596],\n",
       "        [ 458.10003708,   17.496061  ],\n",
       "        [ 458.84793458,   71.567901  ],\n",
       "        [ 459.41846975,   80.59467601],\n",
       "        [ 459.84424351,  137.17298739],\n",
       "        [ 460.1346016 ,   94.04397599]]])"
      ]
     },
     "execution_count": 341,
     "metadata": {},
     "output_type": "execute_result"
    }
   ],
   "source": [
    "time_series[0]"
   ]
  },
  {
   "cell_type": "code",
   "execution_count": 342,
   "metadata": {
    "collapsed": false,
    "deletable": true,
    "editable": true
   },
   "outputs": [
    {
     "data": {
      "text/plain": [
       "array([-0.03 ,  0.   ,  0.07 ,  0.   ,  0.   ,  0.   ,  0.   ,  0.   ,\n",
       "        0.   ,  0.   ,  0.   ,  0.   ,  0.   ,  0.   ,  0.   ,  0.   ,\n",
       "        0.   ,  0.   ,  0.   ,  0.   ,  0.   ,  0.   ,  0.   ,  0.   ,\n",
       "        0.   ,  0.   ,  0.   ,  0.   ,  0.   ,  0.   ,  0.   ,  0.   ,\n",
       "        0.   ,  0.   ,  0.   ,  0.   ,  0.   ,  0.   ,  0.18 ,  0.   ,\n",
       "        0.075,  0.   ,  0.075,  0.31 ,  0.   ,  0.   ,  0.   ,  0.   ,\n",
       "        0.   ,  0.   ,  0.   ,  0.   ,  0.   ,  0.   ,  0.   ,  0.   ,\n",
       "        0.   ,  0.   ,  0.   ,  0.   ,  0.   ,  0.   ,  0.   ,  0.   ,\n",
       "        0.   ,  0.   ,  0.   ,  0.   ,  0.   ,  0.   ,  0.   ,  0.   ,\n",
       "        0.   ,  0.   ,  0.   , -0.535, -0.27 ,  0.   ,  0.045, -0.21 ,\n",
       "        0.   ,  0.   ,  0.   ,  0.155, -0.02 , -0.015, -0.005, -0.01 ,\n",
       "       -0.01 , -0.08 ,  0.   ,  0.   ,  0.   ,  0.005,  0.   ,  0.   ,\n",
       "        0.   ,  0.   , -0.01 , -0.19 ,  0.   ,  0.   ,  0.   ,  0.   ,\n",
       "        0.   ,  0.285,  0.   ,  0.   ,  0.   ,  0.03 ,  0.   ,  0.   ,\n",
       "        0.   ,  0.   ,  0.   ,  0.   ,  0.   ,  0.   ,  0.   ,  0.   ,\n",
       "        0.   ,  0.   ,  0.   ,  0.   ,  0.   ,  0.   ,  0.   ,  0.   ,\n",
       "        0.   ,  0.   ,  0.   ,  0.   ,  0.   ,  0.   ,  0.   ,  0.   ,\n",
       "        0.   ,  0.   ,  0.   ,  0.   ,  0.   ,  0.   ,  0.   ,  0.   ,\n",
       "        0.   ,  0.   ,  0.   ,  0.   ,  0.   ,  0.   ,  0.   ,  0.   ,\n",
       "        0.   ,  0.   ,  0.   ,  0.   ,  0.   ,  0.   ,  0.   ,  0.   ,\n",
       "        0.   ,  0.   ,  0.   ,  0.   ,  0.   ,  0.   ,  0.   ,  0.   ,\n",
       "        0.   ,  0.   ,  0.   ,  0.   ,  0.   ,  0.   ,  0.   ,  0.   ,\n",
       "        0.   ,  0.   ,  0.   ,  0.   ,  0.   ,  0.   ,  0.   ,  0.   ,\n",
       "        0.   ,  0.   ,  0.   ,  0.   ,  0.   ,  0.   ,  0.   ,  0.   ,\n",
       "        0.   ,  0.   ,  0.   ,  0.   ,  0.   ,  0.   ,  0.94 ,  0.4  ])"
      ]
     },
     "execution_count": 342,
     "metadata": {},
     "output_type": "execute_result"
    }
   ],
   "source": [
    "sliced_prices"
   ]
  },
  {
   "cell_type": "code",
   "execution_count": 343,
   "metadata": {
    "collapsed": false,
    "deletable": true,
    "editable": true
   },
   "outputs": [
    {
     "data": {
      "text/plain": [
       "array([[ 167.43008423]], dtype=float32)"
      ]
     },
     "execution_count": 343,
     "metadata": {},
     "output_type": "execute_result"
    }
   ],
   "source": [
    "model.predict(np.array([time_series[5]]))"
   ]
  },
  {
   "cell_type": "code",
   "execution_count": 344,
   "metadata": {
    "collapsed": false
   },
   "outputs": [
    {
     "name": "stdout",
     "output_type": "stream",
     "text": [
      "-0.03   [[ 164.51344299]]\n",
      "0.0   [[ 177.60664368]]\n",
      "0.07   [[ 192.1328125]]\n",
      "0.0   [[ 158.41691589]]\n",
      "0.0   [[ 122.04936218]]\n",
      "0.0   [[ 167.43008423]]\n",
      "0.0   [[ 133.40760803]]\n",
      "0.0   [[ 105.81419373]]\n",
      "0.0   [[ 123.65576935]]\n",
      "0.0   [[ 133.97065735]]\n",
      "0.0   [[ 101.76141357]]\n",
      "0.0   [[ 122.21348572]]\n",
      "0.0   [[ 122.39907837]]\n",
      "0.0   [[ 225.26782227]]\n",
      "0.0   [[ 226.13009644]]\n",
      "0.0   [[ 230.81289673]]\n",
      "0.0   [[ 237.57720947]]\n",
      "0.0   [[ 220.40016174]]\n",
      "0.0   [[ 159.64590454]]\n",
      "0.0   [[ 234.07637024]]\n",
      "0.0   [[ 166.99372864]]\n",
      "0.0   [[ 243.46543884]]\n",
      "0.0   [[ 255.29115295]]\n",
      "0.0   [[ 109.79023743]]\n",
      "0.0   [[ 92.7361908]]\n",
      "0.0   [[ 256.7333374]]\n",
      "0.0   [[ 112.68661499]]\n",
      "0.0   [[ 162.94421387]]\n",
      "0.0   [[ 166.73878479]]\n",
      "0.0   [[ 158.30654907]]\n",
      "0.0   [[ 174.09843445]]\n",
      "0.0   [[ 156.72825623]]\n",
      "0.0   [[ 163.75561523]]\n",
      "0.0   [[ 148.51081848]]\n",
      "0.0   [[ 183.58041382]]\n",
      "0.0   [[ 121.11057281]]\n",
      "0.0   [[ 185.29943848]]\n",
      "0.0   [[ 180.99441528]]\n",
      "0.18   [[ 124.74798584]]\n",
      "0.0   [[ 116.48123169]]\n",
      "0.075   [[ 195.87663269]]\n",
      "0.0   [[ 83.96269989]]\n",
      "0.075   [[ 218.2255249]]\n",
      "0.31   [[ 50.41374969]]\n",
      "0.0   [[ 85.71661377]]\n",
      "0.0   [[ 79.27394104]]\n",
      "0.0   [[ 129.45352173]]\n",
      "0.0   [[ 151.18499756]]\n",
      "0.0   [[ 113.96612549]]\n",
      "0.0   [[ 177.85444641]]\n",
      "0.0   [[ 157.69081116]]\n",
      "0.0   [[ 131.27168274]]\n",
      "0.0   [[ 178.97576904]]\n",
      "0.0   [[ 148.04083252]]\n",
      "0.0   [[ 144.83843994]]\n",
      "0.0   [[ 140.18392944]]\n",
      "0.0   [[ 142.8046875]]\n",
      "0.0   [[ 126.55016327]]\n",
      "0.0   [[ 159.22595215]]\n",
      "0.0   [[ 179.44181824]]\n",
      "0.0   [[ 172.20999146]]\n",
      "0.0   [[ 167.10620117]]\n",
      "0.0   [[ 161.28294373]]\n",
      "0.0   [[ 156.55227661]]\n",
      "0.0   [[ 159.48789978]]\n",
      "0.0   [[ 167.77070618]]\n",
      "0.0   [[ 182.10473633]]\n",
      "0.0   [[ 142.8631897]]\n",
      "0.0   [[ 151.8687439]]\n",
      "0.0   [[ 148.13713074]]\n",
      "0.0   [[ 157.46946716]]\n",
      "0.0   [[ 154.12695312]]\n",
      "0.0   [[ 155.73638916]]\n",
      "0.0   [[ 147.67507935]]\n",
      "0.0   [[ 164.28364563]]\n",
      "-0.535   [[ 152.82211304]]\n",
      "-0.27   [[ 167.72831726]]\n",
      "0.0   [[ 182.17788696]]\n",
      "0.045   [[ 246.0776825]]\n",
      "-0.21   [[ 186.11657715]]\n",
      "0.0   [[ 309.69161987]]\n",
      "0.0   [[ 156.82351685]]\n",
      "0.0   [[ 149.66789246]]\n",
      "0.155   [[ 137.20877075]]\n",
      "-0.02   [[ 187.83428955]]\n",
      "-0.015   [[ 96.67501068]]\n",
      "-0.005   [[ 140.78146362]]\n",
      "-0.01   [[ 76.36608887]]\n",
      "-0.00999999999999   [[ 185.65872192]]\n",
      "-0.08   [[ 201.05993652]]\n",
      "0.0   [[ 174.99475098]]\n",
      "0.0   [[ 91.5599823]]\n",
      "0.0   [[ 135.93554688]]\n",
      "0.005   [[ 256.140625]]\n",
      "0.0   [[ 234.73298645]]\n",
      "0.0   [[ 230.39286804]]\n",
      "0.0   [[ 264.52877808]]\n",
      "0.0   [[ 146.48179626]]\n",
      "-0.00999999999999   [[ 230.25964355]]\n",
      "-0.19   [[ 176.36032104]]\n"
     ]
    }
   ],
   "source": [
    "for i in range(100):\n",
    "    print(sliced_prices[i], ' ', model.predict(np.array([time_series[i]])))"
   ]
  },
  {
   "cell_type": "code",
   "execution_count": null,
   "metadata": {
    "collapsed": true
   },
   "outputs": [],
   "source": []
  }
 ],
 "metadata": {
  "kernelspec": {
   "display_name": "Python 3",
   "language": "python",
   "name": "python3"
  },
  "language_info": {
   "codemirror_mode": {
    "name": "ipython",
    "version": 3
   },
   "file_extension": ".py",
   "mimetype": "text/x-python",
   "name": "python",
   "nbconvert_exporter": "python",
   "pygments_lexer": "ipython3",
   "version": "3.5.3"
  }
 },
 "nbformat": 4,
 "nbformat_minor": 2
}
