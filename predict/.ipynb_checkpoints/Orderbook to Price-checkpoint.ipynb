{
 "cells": [
  {
   "cell_type": "code",
   "execution_count": 1,
   "metadata": {
    "collapsed": false,
    "deletable": true,
    "editable": true
   },
   "outputs": [],
   "source": [
    "import pandas as pd\n",
    "import numpy as np\n",
    "from sqlalchemy import create_engine"
   ]
  },
  {
   "cell_type": "code",
   "execution_count": 2,
   "metadata": {
    "collapsed": false,
    "deletable": true,
    "editable": true
   },
   "outputs": [
    {
     "name": "stderr",
     "output_type": "stream",
     "text": [
      "/Users/devin/anaconda3/envs/aind-dog/lib/python3.5/site-packages/psycopg2/__init__.py:144: UserWarning: The psycopg2 wheel package will be renamed from release 2.8; in order to keep installing from binary please use \"pip install psycopg2-binary\" instead. For details see: <http://initd.org/psycopg/docs/install.html#binary-install-from-pypi>.\n",
      "  \"\"\")\n"
     ]
    }
   ],
   "source": [
    "engine = create_engine(\"postgresql://localhost:5432/gdax\")\n",
    "df = pd.read_sql_query(\"select * from orderbook where pair_string LIKE 'ETH-USD' order by created_at asc limit 1000\", con=engine)"
   ]
  },
  {
   "cell_type": "code",
   "execution_count": 3,
   "metadata": {
    "collapsed": false,
    "deletable": true,
    "editable": true
   },
   "outputs": [],
   "source": [
    "#[n['asks'] for n in df['data'][:10]]\n",
    "asks = df['data'].apply(lambda n: n['asks'])\n",
    "asks = asks.apply(lambda book: [[float(order_detail) for order_detail in order] for order in book])\n",
    "\n",
    "bids = df['data'].apply(lambda n: n['bids'])\n",
    "bids = bids.apply(lambda book: [[float(order_detail) for order_detail in order] for order in book])\n",
    "\n",
    "marketPrices = df['data'].apply(lambda n: (float(n['bids'][0][0]) + float(n['asks'][0][0]))/2)"
   ]
  },
  {
   "cell_type": "markdown",
   "metadata": {
    "deletable": true,
    "editable": true
   },
   "source": [
    "Example format\n",
    "\n",
    "df.iloc[0][2]['asks'][0]\n",
    "\n",
    "[ price, size, num-orders ],\n",
    "\n",
    "['894.89', '29.7307291', 22]"
   ]
  },
  {
   "cell_type": "code",
   "execution_count": 4,
   "metadata": {
    "collapsed": false,
    "deletable": true,
    "editable": true
   },
   "outputs": [
    {
     "data": {
      "text/plain": [
       "1000"
      ]
     },
     "execution_count": 4,
     "metadata": {},
     "output_type": "execute_result"
    }
   ],
   "source": [
    "len(asks)"
   ]
  },
  {
   "cell_type": "code",
   "execution_count": 5,
   "metadata": {
    "collapsed": false,
    "deletable": true,
    "editable": true
   },
   "outputs": [],
   "source": [
    "def getSplitVWAP(book):\n",
    "    return [getBookVWAP(bucket) for bucket in np.split(np.array(book), 5)]\n",
    "\n",
    "def getBookVWAP(book):\n",
    "    prices = np.array([order[0] for order in book])\n",
    "    sizes = np.array([order[1] for order in book])\n",
    "    return [(prices * sizes).sum() / sizes.sum(), sizes.sum()]"
   ]
  },
  {
   "cell_type": "code",
   "execution_count": 6,
   "metadata": {
    "collapsed": false,
    "deletable": true,
    "editable": true
   },
   "outputs": [],
   "source": [
    "asks_VWAP = pd.Series.apply(asks, getSplitVWAP)\n",
    "bids_VWAP = pd.Series.apply(bids, getSplitVWAP)"
   ]
  },
  {
   "cell_type": "code",
   "execution_count": 7,
   "metadata": {
    "collapsed": false,
    "deletable": true,
    "editable": true
   },
   "outputs": [
    {
     "data": {
      "text/plain": [
       "0      [[458.135374312, 32.10720375], [458.836725082,...\n",
       "1      [[458.090420186, 33.92031475], [458.82494187, ...\n",
       "2      [[458.087606853, 39.34031475], [458.782564024,...\n",
       "3      [[458.100037079, 17.496061], [458.816471342, 6...\n",
       "4      [[458.100037079, 17.496061], [458.84793458, 71...\n",
       "5      [[458.100037079, 17.496061], [458.816471342, 6...\n",
       "6      [[458.099803094, 17.480792], [458.812390376, 6...\n",
       "7      [[458.120247323, 10.232431], [458.761309889, 5...\n",
       "8      [[458.120247323, 10.232431], [458.761309889, 5...\n",
       "9      [[458.120467979, 10.187695], [458.706180574, 5...\n",
       "10     [[458.120467979, 10.187695], [458.992843398, 3...\n",
       "11     [[458.240143239, 0.266478], [459.014261914, 46...\n",
       "12     [[458.240143239, 0.266478], [459.014261914, 46...\n",
       "13     [[458.238193834, 0.268663], [459.006379955, 27...\n",
       "14     [[458.23066001, 0.244663], [459.005091314, 27....\n",
       "15     [[458.222598634, 0.222844], [458.999256519, 20...\n",
       "16     [[458.21206991, 0.233759], [458.987137319, 10....\n",
       "17     [[458.21206991, 0.233759], [458.987137319, 10....\n",
       "18     [[458.196958826, 0.238135], [458.617785088, 0....\n",
       "19     [[458.193938735, 0.254503], [458.617785088, 0....\n",
       "20     [[458.193938735, 0.254503], [458.617785088, 0....\n",
       "21     [[458.193938735, 0.254503], [458.617785088, 0....\n",
       "22     [[458.189994492, 0.279602], [458.617785088, 0....\n",
       "23     [[458.188348508, 0.291603], [458.617785088, 0....\n",
       "24     [[458.188348508, 0.291603], [458.617785088, 0....\n",
       "25     [[458.188348508, 0.291603], [458.617785088, 0....\n",
       "26     [[458.188348508, 0.291603], [458.617785088, 0....\n",
       "27     [[458.184133487, 0.327612], [458.617785088, 0....\n",
       "28     [[458.182927303, 0.339613], [458.818379275, 10...\n",
       "29     [[458.182927303, 0.339613], [458.818379275, 10...\n",
       "                             ...                        \n",
       "970    [[458.033564198, 105.74419908], [458.738249752...\n",
       "971    [[458.033564198, 105.74419908], [458.738249752...\n",
       "972    [[458.033020876, 105.89419908], [458.738249752...\n",
       "973    [[458.033564198, 105.74419908], [458.738249752...\n",
       "974    [[458.033794437, 105.73977808], [458.738249752...\n",
       "975    [[458.033794437, 105.73977808], [458.738249752...\n",
       "976    [[458.041728201, 114.59207808], [458.737933687...\n",
       "977    [[458.041728201, 114.59207808], [458.737933687...\n",
       "978    [[458.041728201, 114.59207808], [458.737933687...\n",
       "979    [[458.041728201, 114.59207808], [458.741512895...\n",
       "980    [[458.041728201, 114.59207808], [458.741512895...\n",
       "981    [[458.043152707, 114.17687808], [458.750895791...\n",
       "982    [[458.084326226, 123.17687808], [458.806421202...\n",
       "983    [[458.043152707, 114.17687808], [458.774628067...\n",
       "984    [[458.043152707, 114.17687808], [458.758474773...\n",
       "985    [[458.043152707, 114.17687808], [458.787448952...\n",
       "986    [[458.043152707, 114.17687808], [458.780479785...\n",
       "987    [[458.043152707, 114.17687808], [458.786017616...\n",
       "988    [[458.043152707, 114.17687808], [458.758379837...\n",
       "989    [[458.016118545, 107.22687808], [458.743964628...\n",
       "990    [[458.016118545, 107.22687808], [458.743964628...\n",
       "991    [[458.789952174, 176.18719275], [459.497878742...\n",
       "992    [[458.91979085, 65.55971574], [459.445114135, ...\n",
       "993    [[458.929884916, 68.98476274], [459.412854218,...\n",
       "994    [[458.99438284, 123.89276775], [459.540975507,...\n",
       "995    [[459.030008279, 118.94528275], [459.553381836...\n",
       "996    [[459.078350852, 25.85120609], [459.560464954,...\n",
       "997    [[459.106001273, 91.55758275], [459.521035121,...\n",
       "998    [[459.518128365, 124.23376594], [459.946322447...\n",
       "999    [[459.675576325, 193.89701794], [460.20629, 61...\n",
       "Name: data, dtype: object"
      ]
     },
     "execution_count": 7,
     "metadata": {},
     "output_type": "execute_result"
    }
   ],
   "source": [
    "asks_VWAP"
   ]
  },
  {
   "cell_type": "code",
   "execution_count": 8,
   "metadata": {
    "collapsed": false,
    "deletable": true,
    "editable": true
   },
   "outputs": [
    {
     "data": {
      "text/plain": [
       "0      [[457.838941501, 83.91149394], [457.352667502,...\n",
       "1      [[457.809270661, 93.43449394], [457.367483461,...\n",
       "2      [[457.809270661, 93.43449394], [457.352822101,...\n",
       "3      [[457.867618976, 100.95449394], [457.374018498...\n",
       "4      [[457.867618976, 100.95449394], [457.374018498...\n",
       "5      [[457.867618976, 100.95449394], [457.374018498...\n",
       "6      [[457.852034583, 93.51049394], [457.352617037,...\n",
       "7      [[457.852034583, 93.51049394], [457.352617037,...\n",
       "8      [[457.852034583, 93.51049394], [457.352617037,...\n",
       "9      [[457.999516355, 272.05997394], [457.342218524...\n",
       "10     [[458.015310292, 276.46949394], [457.360675358...\n",
       "11     [[458.062940758, 303.16109394], [457.408636403...\n",
       "12     [[458.070929444, 301.16109394], [457.441487304...\n",
       "13     [[458.070929444, 301.16109394], [457.480442528...\n",
       "14     [[458.094742809, 284.03009394], [457.502896576...\n",
       "15     [[458.070929444, 301.16109394], [457.480442528...\n",
       "16     [[458.070929444, 301.16109394], [457.480442528...\n",
       "17     [[458.070929444, 301.16109394], [457.480442528...\n",
       "18     [[457.888007473, 94.06177394], [457.459944353,...\n",
       "19     [[457.888007473, 94.06177394], [457.459944353,...\n",
       "20     [[457.888007473, 94.06177394], [457.459944353,...\n",
       "21     [[457.888007473, 94.06177394], [457.459944353,...\n",
       "22     [[457.892366385, 95.71747394], [457.463226487,...\n",
       "23     [[457.937683711, 126.04701394], [457.378305708...\n",
       "24     [[457.946865176, 122.72703394], [457.461892237...\n",
       "25     [[457.931562733, 129.39703394], [457.461892237...\n",
       "26     [[457.866918422, 87.13683394], [457.341667987,...\n",
       "27     [[457.856741147, 92.71683394], [457.35020286, ...\n",
       "28     [[457.837385775, 97.58683394], [457.344480252,...\n",
       "29     [[457.837385775, 97.58683394], [457.344480252,...\n",
       "                             ...                        \n",
       "970    [[457.629363913, 350.3489411], [456.990174815,...\n",
       "971    [[457.629363913, 350.3489411], [456.981519235,...\n",
       "972    [[457.629368464, 350.4989411], [456.990174815,...\n",
       "973    [[457.629363913, 350.3489411], [456.990174815,...\n",
       "974    [[457.629245642, 350.21540708], [456.978605564...\n",
       "975    [[457.629245642, 350.21540708], [456.980734307...\n",
       "976    [[457.629245642, 350.21540708], [456.980734307...\n",
       "977    [[457.629245642, 350.21540708], [456.980734307...\n",
       "978    [[457.629245642, 350.21540708], [456.98885245,...\n",
       "979    [[457.628383073, 360.90541235], [457.076017982...\n",
       "980    [[457.628383073, 360.90541235], [456.982315606...\n",
       "981    [[457.629140137, 346.81304235], [456.971145508...\n",
       "982    [[457.630258753, 346.46404235], [456.979654736...\n",
       "983    [[457.630254533, 346.31404235], [456.975095363...\n",
       "984    [[457.630257347, 346.41404235], [456.979654736...\n",
       "985    [[457.629177367, 348.00606235], [456.973482249...\n",
       "986    [[457.629564204, 360.90606235], [456.973482249...\n",
       "987    [[457.630315556, 388.90635235], [456.969461492...\n",
       "988    [[457.629206365, 348.94103235], [456.969461492...\n",
       "989    [[457.629469876, 357.6731001], [456.970093735,...\n",
       "990    [[457.629465458, 357.5231001], [456.970093735,...\n",
       "991    [[458.404585959, 98.35661489], [457.620766486,...\n",
       "992    [[458.414184853, 95.6055], [457.622353388, 293...\n",
       "993    [[458.545044945, 355.2645], [457.544254417, 49...\n",
       "994    [[458.537647965, 357.8645], [457.357371871, 41...\n",
       "995    [[458.537647965, 357.8645], [457.349394176, 41...\n",
       "996    [[458.649483148, 368.48160225], [457.627863476...\n",
       "997    [[458.526842308, 362.475221], [457.387031843, ...\n",
       "998    [[459.077808466, 424.8249], [457.718069338, 10...\n",
       "999    [[459.198531594, 423.66082908], [457.707539108...\n",
       "Name: data, dtype: object"
      ]
     },
     "execution_count": 8,
     "metadata": {},
     "output_type": "execute_result"
    }
   ],
   "source": [
    "bids_VWAP"
   ]
  },
  {
   "cell_type": "code",
   "execution_count": 9,
   "metadata": {
    "collapsed": false,
    "deletable": true,
    "editable": true
   },
   "outputs": [
    {
     "data": {
      "text/plain": [
       "0      458.095\n",
       "1      458.065\n",
       "2      458.065\n",
       "3      458.065\n",
       "4      458.065\n",
       "5      458.065\n",
       "6      458.065\n",
       "7      458.065\n",
       "8      458.065\n",
       "9      458.075\n",
       "10     458.075\n",
       "11     458.145\n",
       "12     458.145\n",
       "13     458.145\n",
       "14     458.145\n",
       "15     458.145\n",
       "16     458.145\n",
       "17     458.145\n",
       "18     458.145\n",
       "19     458.145\n",
       "20     458.145\n",
       "21     458.145\n",
       "22     458.145\n",
       "23     458.145\n",
       "24     458.145\n",
       "25     458.145\n",
       "26     458.145\n",
       "27     458.145\n",
       "28     458.145\n",
       "29     458.145\n",
       "        ...   \n",
       "970    457.645\n",
       "971    457.645\n",
       "972    457.645\n",
       "973    457.645\n",
       "974    457.645\n",
       "975    457.645\n",
       "976    457.645\n",
       "977    457.645\n",
       "978    457.645\n",
       "979    457.645\n",
       "980    457.645\n",
       "981    457.645\n",
       "982    457.645\n",
       "983    457.645\n",
       "984    457.645\n",
       "985    457.645\n",
       "986    457.645\n",
       "987    457.645\n",
       "988    457.645\n",
       "989    457.645\n",
       "990    457.645\n",
       "991    458.585\n",
       "992    458.585\n",
       "993    458.585\n",
       "994    458.585\n",
       "995    458.585\n",
       "996    458.985\n",
       "997    458.585\n",
       "998    459.265\n",
       "999    459.265\n",
       "Name: data, dtype: float64"
      ]
     },
     "execution_count": 9,
     "metadata": {},
     "output_type": "execute_result"
    }
   ],
   "source": [
    "marketPrices"
   ]
  },
  {
   "cell_type": "code",
   "execution_count": 10,
   "metadata": {
    "collapsed": false,
    "deletable": true,
    "editable": true
   },
   "outputs": [
    {
     "ename": "AxisError",
     "evalue": "axis 1 is out of bounds for array of dimension 1",
     "output_type": "error",
     "traceback": [
      "\u001b[0;31m---------------------------------------------------------------------------\u001b[0m",
      "\u001b[0;31mAxisError\u001b[0m                                 Traceback (most recent call last)",
      "\u001b[0;32m<ipython-input-10-2d0357b69e82>\u001b[0m in \u001b[0;36m<module>\u001b[0;34m()\u001b[0m\n\u001b[0;32m----> 1\u001b[0;31m \u001b[0mstacked\u001b[0m \u001b[0;34m=\u001b[0m \u001b[0mnp\u001b[0m\u001b[0;34m.\u001b[0m\u001b[0mconcatenate\u001b[0m\u001b[0;34m(\u001b[0m\u001b[0;34m(\u001b[0m\u001b[0mbids_VWAP\u001b[0m\u001b[0;34m,\u001b[0m \u001b[0masks_VWAP\u001b[0m\u001b[0;34m)\u001b[0m\u001b[0;34m,\u001b[0m \u001b[0maxis\u001b[0m\u001b[0;34m=\u001b[0m\u001b[0;36m1\u001b[0m\u001b[0;34m)\u001b[0m\u001b[0;34m\u001b[0m\u001b[0m\n\u001b[0m",
      "\u001b[0;31mAxisError\u001b[0m: axis 1 is out of bounds for array of dimension 1"
     ]
    }
   ],
   "source": [
    "stacked = np.concatenate((bids_VWAP, asks_VWAP), axis=1)"
   ]
  },
  {
   "cell_type": "code",
   "execution_count": 11,
   "metadata": {
    "collapsed": false,
    "deletable": true,
    "editable": true
   },
   "outputs": [],
   "source": [
    "data = bids_VWAP + asks_VWAP"
   ]
  },
  {
   "cell_type": "code",
   "execution_count": 76,
   "metadata": {
    "collapsed": false,
    "deletable": true,
    "editable": true
   },
   "outputs": [],
   "source": [
    "time_series = data.values.reshape((200, 5, 1))\n",
    "sliced_prices = np.array(marketPrices)[0:-1:5]"
   ]
  },
  {
   "cell_type": "code",
   "execution_count": 77,
   "metadata": {
    "collapsed": false,
    "deletable": true,
    "editable": true
   },
   "outputs": [],
   "source": [
    "from keras.models import Sequential\n",
    "from keras.layers import Dense, Activation, LSTM"
   ]
  },
  {
   "cell_type": "code",
   "execution_count": 66,
   "metadata": {
    "collapsed": false,
    "deletable": true,
    "editable": true
   },
   "outputs": [],
   "source": [
    "model = Sequential()\n",
    "model.add(LSTM(32, input_shape=(5, 1)))\n",
    "model.add(Dense(1))\n",
    "model.compile(loss='sparse_categorical_crossentropy',\n",
    "                  optimizer='Adam',\n",
    "                  metrics=['accuracy'])"
   ]
  },
  {
   "cell_type": "code",
   "execution_count": null,
   "metadata": {
    "collapsed": false
   },
   "outputs": [],
   "source": [
    "model.fit(time_series[:-1], sliced_prices[1:], batch_size=100, epochs=5, validation_split=0.25)"
   ]
  },
  {
   "cell_type": "code",
   "execution_count": null,
   "metadata": {
    "collapsed": false
   },
   "outputs": [],
   "source": [
    "time_series[0]"
   ]
  },
  {
   "cell_type": "code",
   "execution_count": null,
   "metadata": {
    "collapsed": false
   },
   "outputs": [],
   "source": [
    "time_series[1]"
   ]
  },
  {
   "cell_type": "code",
   "execution_count": null,
   "metadata": {
    "collapsed": true
   },
   "outputs": [],
   "source": []
  }
 ],
 "metadata": {
  "kernelspec": {
   "display_name": "Python 3",
   "language": "python",
   "name": "python3"
  },
  "language_info": {
   "codemirror_mode": {
    "name": "ipython",
    "version": 3
   },
   "file_extension": ".py",
   "mimetype": "text/x-python",
   "name": "python",
   "nbconvert_exporter": "python",
   "pygments_lexer": "ipython3",
   "version": "3.5.3"
  }
 },
 "nbformat": 4,
 "nbformat_minor": 2
}
