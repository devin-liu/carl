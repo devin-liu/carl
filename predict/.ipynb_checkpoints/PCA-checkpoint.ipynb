{
 "cells": [
  {
   "cell_type": "code",
   "execution_count": 119,
   "metadata": {
    "collapsed": false
   },
   "outputs": [],
   "source": [
    "import pandas as pd\n",
    "import numpy as np\n",
    "from sqlalchemy import create_engine"
   ]
  },
  {
   "cell_type": "code",
   "execution_count": 89,
   "metadata": {
    "collapsed": false
   },
   "outputs": [],
   "source": [
    "engine = create_engine('postgresql://localhost:5432/gdax')\n",
    "df = pd.read_sql_query('select * from orderbook order by created_at asc limit 100', con=engine)"
   ]
  },
  {
   "cell_type": "code",
   "execution_count": 146,
   "metadata": {
    "collapsed": false
   },
   "outputs": [],
   "source": [
    "#[n['asks'] for n in df['data'][:10]]\n",
    "asks = df['data'][:10].apply(lambda n: n['asks'])\n",
    "asks = asks.apply(lambda book: [[float(order_detail) for order_detail in order] for order in book])\n",
    "\n",
    "bids = df['data'][:10].apply(lambda n: n['bids'])\n",
    "bids = bids.apply(lambda book: [[float(order_detail) for order_detail in order] for order in book])\n"
   ]
  },
  {
   "cell_type": "markdown",
   "metadata": {},
   "source": [
    "Example format\n",
    "\n",
    "df.iloc[0][2]['asks'][0]\n",
    "\n",
    "[ price, size, num-orders ],\n",
    "\n",
    "['894.89', '29.7307291', 22]"
   ]
  },
  {
   "cell_type": "code",
   "execution_count": 147,
   "metadata": {
    "collapsed": true
   },
   "outputs": [],
   "source": [
    "from sklearn.preprocessing import StandardScaler\n",
    "from sklearn.decomposition import PCA"
   ]
  },
  {
   "cell_type": "code",
   "execution_count": 149,
   "metadata": {
    "collapsed": false
   },
   "outputs": [],
   "source": [
    "# X_std = StandardScaler().fit_transform(asks)\n",
    "# pca = PCA(n_components=1)\n",
    "# pca.fit(X_std)\n",
    "# X_1d = pca.transform(X_std)\n"
   ]
  },
  {
   "cell_type": "code",
   "execution_count": 145,
   "metadata": {
    "collapsed": false
   },
   "outputs": [
    {
     "data": {
      "text/plain": [
       "0    [[894.89, 29.7307291, 22.0], [894.9, 0.0195529...\n",
       "1    [[894.89, 29.7307291, 22.0], [894.9, 0.0195529...\n",
       "2    [[7929.19, 6.20375784, 7.0], [7929.69, 0.00132...\n",
       "3    [[458.13, 20.03601, 2.0], [458.14, 10.0, 1.0],...\n",
       "4    [[138.74, 204.67127535, 7.0], [138.78, 1.2475,...\n",
       "5    [[7929.19, 6.20375784, 7.0], [7929.69, 0.00132...\n",
       "6    [[7929.19, 6.20375784, 7.0], [7929.69, 0.00132...\n",
       "7    [[894.89, 29.7307291, 22.0], [894.9, 0.0195529...\n",
       "8    [[138.74, 198.64922607, 5.0], [138.78, 1.2475,...\n",
       "9    [[458.07, 21.844747, 3.0], [458.12, 10.0, 1.0]...\n",
       "Name: data, dtype: object"
      ]
     },
     "execution_count": 145,
     "metadata": {},
     "output_type": "execute_result"
    }
   ],
   "source": [
    "asks"
   ]
  },
  {
   "cell_type": "code",
   "execution_count": 126,
   "metadata": {
    "collapsed": false
   },
   "outputs": [
    {
     "data": {
      "text/plain": [
       "array([[ 1.33361964],\n",
       "       [-1.17187671],\n",
       "       [-1.16992152],\n",
       "       [-1.16758879],\n",
       "       [-1.16487894],\n",
       "       [-1.16254648],\n",
       "       [-1.15917651],\n",
       "       [-1.15665537],\n",
       "       [-1.15328525],\n",
       "       [-1.15246165],\n",
       "       [-1.14928041],\n",
       "       [-0.83626799],\n",
       "       [-0.99330843],\n",
       "       [-0.91098661],\n",
       "       [-0.95253098],\n",
       "       [ 1.75258098],\n",
       "       [-0.20749077],\n",
       "       [-0.7964843 ],\n",
       "       [-0.77181256],\n",
       "       [-0.69365541],\n",
       "       [-0.6574921 ],\n",
       "       [-0.66003569],\n",
       "       [-0.64068784],\n",
       "       [-0.62752213],\n",
       "       [-0.40553321],\n",
       "       [-0.10756556],\n",
       "       [ 0.26654285],\n",
       "       [-0.03523711],\n",
       "       [ 0.5706733 ],\n",
       "       [ 0.31621977],\n",
       "       [-0.04011623],\n",
       "       [ 0.25268582],\n",
       "       [-0.05158284],\n",
       "       [ 0.80514476],\n",
       "       [ 3.37417906],\n",
       "       [ 0.09326774],\n",
       "       [ 0.57729806],\n",
       "       [ 0.98687982],\n",
       "       [ 1.02448902],\n",
       "       [ 0.22308598],\n",
       "       [ 0.31370002],\n",
       "       [ 0.77266516],\n",
       "       [ 0.35850914],\n",
       "       [ 1.86187729],\n",
       "       [ 0.79646246],\n",
       "       [ 0.87705121],\n",
       "       [ 0.90982679],\n",
       "       [ 1.39865732],\n",
       "       [ 1.05013974],\n",
       "       [ 1.08042547]])"
      ]
     },
     "execution_count": 126,
     "metadata": {},
     "output_type": "execute_result"
    }
   ],
   "source": [
    "# np.concatenate((np.array(asks), np.array(X_1d.T)), axis=1)\n",
    "X_1d"
   ]
  },
  {
   "cell_type": "code",
   "execution_count": null,
   "metadata": {
    "collapsed": true
   },
   "outputs": [],
   "source": []
  }
 ],
 "metadata": {
  "kernelspec": {
   "display_name": "Python 3",
   "language": "python",
   "name": "python3"
  },
  "language_info": {
   "codemirror_mode": {
    "name": "ipython",
    "version": 3
   },
   "file_extension": ".py",
   "mimetype": "text/x-python",
   "name": "python",
   "nbconvert_exporter": "python",
   "pygments_lexer": "ipython3",
   "version": "3.6.0"
  }
 },
 "nbformat": 4,
 "nbformat_minor": 2
}
