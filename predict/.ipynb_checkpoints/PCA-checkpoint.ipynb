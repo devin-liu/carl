{
 "cells": [
  {
   "cell_type": "code",
   "execution_count": 119,
   "metadata": {
    "collapsed": false
   },
   "outputs": [],
   "source": [
    "import pandas as pd\n",
    "import numpy as np\n",
    "from sqlalchemy import create_engine"
   ]
  },
  {
   "cell_type": "code",
   "execution_count": 213,
   "metadata": {
    "collapsed": false
   },
   "outputs": [],
   "source": [
    "engine = create_engine(\"postgresql://localhost:5432/gdax\")\n",
    "df = pd.read_sql_query(\"select * from orderbook where pair_string LIKE 'ETH-USD' order by created_at asc limit 100\", con=engine)"
   ]
  },
  {
   "cell_type": "code",
   "execution_count": 219,
   "metadata": {
    "collapsed": false
   },
   "outputs": [],
   "source": [
    "#[n['asks'] for n in df['data'][:10]]\n",
    "asks = df['data'][:50].apply(lambda n: n['asks'])\n",
    "asks = asks.apply(lambda book: [[float(order_detail) for order_detail in order] for order in book])\n",
    "\n",
    "bids = df['data'][:10].apply(lambda n: n['bids'])\n",
    "bids = bids.apply(lambda book: [[float(order_detail) for order_detail in order] for order in book])\n"
   ]
  },
  {
   "cell_type": "markdown",
   "metadata": {},
   "source": [
    "Example format\n",
    "\n",
    "df.iloc[0][2]['asks'][0]\n",
    "\n",
    "[ price, size, num-orders ],\n",
    "\n",
    "['894.89', '29.7307291', 22]"
   ]
  },
  {
   "cell_type": "code",
   "execution_count": 220,
   "metadata": {
    "collapsed": true
   },
   "outputs": [],
   "source": [
    "from sklearn.preprocessing import StandardScaler\n",
    "from sklearn.decomposition import PCA"
   ]
  },
  {
   "cell_type": "code",
   "execution_count": 221,
   "metadata": {
    "collapsed": false
   },
   "outputs": [
    {
     "data": {
      "text/plain": [
       "0     [[458.13, 20.03601, 2.0], [458.14, 10.0, 1.0],...\n",
       "1     [[458.07, 21.844747, 3.0], [458.12, 10.0, 1.0]...\n",
       "2     [[458.07, 27.264747, 4.0], [458.12, 10.0, 1.0]...\n",
       "3     [[458.07, 7.264747, 3.0], [458.11, 0.022915, 1...\n",
       "4     [[458.07, 7.264747, 3.0], [458.11, 0.022915, 1...\n",
       "5     [[458.07, 7.264747, 3.0], [458.11, 0.022915, 1...\n",
       "6     [[458.07, 7.264747, 3.0], [458.1, 0.012003, 1....\n",
       "7     [[458.07, 0.044747, 1.0], [458.09, 0.016369, 1...\n",
       "8     [[458.07, 0.044747, 1.0], [458.09, 0.016369, 1...\n",
       "9     [[458.08, 1.1e-05, 1.0], [458.09, 0.016369, 1....\n",
       "10    [[458.08, 1.1e-05, 1.0], [458.09, 0.016369, 1....\n",
       "11    [[458.15, 0.010107, 2.0], [458.17, 0.036012, 1...\n",
       "12    [[458.15, 0.010107, 2.0], [458.17, 0.036012, 1...\n",
       "13    [[458.15, 0.010107, 2.0], [458.17, 0.036012, 1...\n",
       "14    [[458.15, 0.010107, 2.0], [458.17, 0.036012, 1...\n",
       "15    [[458.15, 0.010107, 2.0], [458.17, 0.036012, 1...\n",
       "16    [[458.15, 0.010107, 2.0], [458.17, 0.036012, 1...\n",
       "17    [[458.15, 0.010107, 2.0], [458.17, 0.036012, 1...\n",
       "18    [[458.15, 0.010107, 2.0], [458.16, 0.012003, 1...\n",
       "19    [[458.15, 0.026475, 3.0], [458.16, 0.012003, 1...\n",
       "20    [[458.15, 0.026475, 3.0], [458.16, 0.012003, 1...\n",
       "21    [[458.15, 0.026475, 3.0], [458.16, 0.012003, 1...\n",
       "22    [[458.15, 0.051574, 4.0], [458.16, 0.012003, 1...\n",
       "23    [[458.15, 0.063575, 5.0], [458.16, 0.012003, 1...\n",
       "24    [[458.15, 0.063575, 5.0], [458.16, 0.012003, 1...\n",
       "25    [[458.15, 0.063575, 5.0], [458.16, 0.012003, 1...\n",
       "26    [[458.15, 0.063575, 5.0], [458.16, 0.012003, 1...\n",
       "27    [[458.15, 0.099584, 6.0], [458.16, 0.012003, 1...\n",
       "28    [[458.15, 0.111585, 7.0], [458.16, 0.012003, 1...\n",
       "29    [[458.15, 0.111585, 7.0], [458.16, 0.012003, 1...\n",
       "30    [[458.15, 0.111585, 7.0], [458.16, 0.012003, 1...\n",
       "31    [[458.15, 0.111585, 7.0], [458.16, 0.012003, 1...\n",
       "32    [[458.15, 0.111585, 7.0], [458.16, 0.012003, 1...\n",
       "33    [[458.15, 0.111585, 7.0], [458.16, 0.012003, 1...\n",
       "34    [[458.15, 0.111585, 7.0], [458.16, 0.012003, 1...\n",
       "35    [[458.15, 20.112295, 8.0], [458.16, 0.012003, ...\n",
       "36    [[458.15, 20.137392, 9.0], [458.16, 0.012003, ...\n",
       "37    [[458.15, 28.00977608, 13.0], [458.16, 0.01200...\n",
       "38    [[458.15, 28.00977608, 13.0], [458.16, 0.01200...\n",
       "39    [[458.15, 28.00977608, 13.0], [458.16, 0.01200...\n",
       "40    [[458.15, 28.03923608, 14.0], [458.16, 0.01200...\n",
       "41    [[458.15, 28.03923608, 14.0], [458.16, 0.01200...\n",
       "42    [[458.01, 44.7596, 4.0], [458.15, 10.25024608,...\n",
       "43    [[458.01, 44.778156, 5.0], [458.15, 10.2502460...\n",
       "44    [[458.01, 46.758156, 6.0], [458.15, 10.2502460...\n",
       "45    [[458.01, 46.758156, 6.0], [458.15, 10.2502460...\n",
       "46    [[458.01, 46.758156, 6.0], [458.15, 10.2502460...\n",
       "47    [[458.01, 44.778156, 5.0], [458.15, 10.2502460...\n",
       "48    [[458.01, 44.778156, 5.0], [458.15, 4.528771, ...\n",
       "49    [[458.01, 44.64754633, 5.0], [458.15, 4.528771...\n",
       "Name: data, dtype: object"
      ]
     },
     "execution_count": 221,
     "metadata": {},
     "output_type": "execute_result"
    }
   ],
   "source": [
    "asks"
   ]
  },
  {
   "cell_type": "code",
   "execution_count": 236,
   "metadata": {
    "collapsed": false
   },
   "outputs": [],
   "source": [
    "def getSplitVWAP(book):\n",
    "    return [getBookVWAP(bucket) for bucket in np.split(np.array(book), 5)]\n",
    "\n",
    "def getBookVWAP(book):\n",
    "    prices = np.array([order[0] for order in book])\n",
    "    sizes = np.array([order[1] for order in book])\n",
    "    return [(prices * sizes).sum() / sizes.sum(), sizes.sum()]"
   ]
  },
  {
   "cell_type": "code",
   "execution_count": 238,
   "metadata": {
    "collapsed": false
   },
   "outputs": [],
   "source": [
    "asks_VWAP = pd.Series.apply(asks, getSplitVWAP)\n",
    "bids_VWAP = pd.Series.apply(bids, getSplitVWAP)"
   ]
  },
  {
   "cell_type": "code",
   "execution_count": 243,
   "metadata": {
    "collapsed": false
   },
   "outputs": [
    {
     "data": {
      "text/plain": [
       "[[458.13537431175388, 32.107203750000004],\n",
       " [458.83672508161715, 77.286264999999986],\n",
       " [459.38518398425651, 89.594676010000001],\n",
       " [459.64004643709382, 34.854033000000001],\n",
       " [459.93487116512142, 112.68685438]]"
      ]
     },
     "execution_count": 243,
     "metadata": {},
     "output_type": "execute_result"
    }
   ],
   "source": [
    "asks_VWAP[0]"
   ]
  },
  {
   "cell_type": "code",
   "execution_count": 245,
   "metadata": {
    "collapsed": false
   },
   "outputs": [
    {
     "data": {
      "text/plain": [
       "[[457.83894150120994, 83.911493940000014],\n",
       " [457.35266750212838, 65.909963380000008],\n",
       " [456.93632289319402, 193.24693372000002],\n",
       " [456.81556623679342, 12.50021269],\n",
       " [456.20939390966862, 91.77681595]]"
      ]
     },
     "execution_count": 245,
     "metadata": {},
     "output_type": "execute_result"
    }
   ],
   "source": [
    "bids_VWAP[0]"
   ]
  },
  {
   "cell_type": "code",
   "execution_count": null,
   "metadata": {
    "collapsed": true
   },
   "outputs": [],
   "source": []
  }
 ],
 "metadata": {
  "kernelspec": {
   "display_name": "Python 3",
   "language": "python",
   "name": "python3"
  },
  "language_info": {
   "codemirror_mode": {
    "name": "ipython",
    "version": 3
   },
   "file_extension": ".py",
   "mimetype": "text/x-python",
   "name": "python",
   "nbconvert_exporter": "python",
   "pygments_lexer": "ipython3",
   "version": "3.6.0"
  }
 },
 "nbformat": 4,
 "nbformat_minor": 2
}
