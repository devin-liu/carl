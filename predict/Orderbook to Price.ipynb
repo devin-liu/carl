{
 "cells": [
  {
   "cell_type": "code",
   "execution_count": 422,
   "metadata": {
    "collapsed": false,
    "deletable": true,
    "editable": true
   },
   "outputs": [],
   "source": [
    "import pandas as pd\n",
    "import numpy as np\n",
    "from sqlalchemy import create_engine\n",
    "from sklearn.preprocessing import normalize"
   ]
  },
  {
   "cell_type": "code",
   "execution_count": 345,
   "metadata": {
    "collapsed": false,
    "deletable": true,
    "editable": true
   },
   "outputs": [],
   "source": [
    "engine = create_engine(\"postgresql://localhost:5432/gdax\")\n",
    "df = pd.read_sql_query(\"select * from orderbook where pair_string LIKE 'ETH-USD' order by created_at asc limit 50000\", con=engine)"
   ]
  },
  {
   "cell_type": "code",
   "execution_count": 379,
   "metadata": {
    "collapsed": false,
    "deletable": true,
    "editable": true
   },
   "outputs": [],
   "source": [
    "def convertBookNumbersToFloat(book):\n",
    "    return [[float(order_detail) for order_detail in order] for order in book]\n",
    "\n",
    "def getMarketPrices(n):\n",
    "    return [np.average([float(n['bids'][0][0]) , float(n['asks'][0][0])])]\n",
    "\n",
    "def getMarketPricesAndSize(n):\n",
    "    return [np.average([float(n['bids'][0][0]) , float(n['asks'][0][0])]), np.average([float(n['bids'][0][1]) , float(n['asks'][0][1])])] \n",
    "asks = df['data'].apply(lambda n: n['asks'])\n",
    "asks = asks.apply(convertBookNumbersToFloat)\n",
    "\n",
    "bids = df['data'].apply(lambda n: n['bids'])\n",
    "bids = bids.apply(convertBookNumbersToFloat)"
   ]
  },
  {
   "cell_type": "code",
   "execution_count": 380,
   "metadata": {
    "collapsed": true
   },
   "outputs": [],
   "source": [
    "marketPrices = df['data'].apply(getMarketPrices)"
   ]
  },
  {
   "cell_type": "markdown",
   "metadata": {
    "deletable": true,
    "editable": true
   },
   "source": [
    "Example format\n",
    "\n",
    "df.iloc[0][2]['asks'][0]\n",
    "\n",
    "[ price, size, num-orders ],\n",
    "\n",
    "['894.89', '29.7307291', 22]"
   ]
  },
  {
   "cell_type": "code",
   "execution_count": 390,
   "metadata": {
    "collapsed": false,
    "deletable": true,
    "editable": true
   },
   "outputs": [],
   "source": [
    "np.average([1,2])\n"
   ]
  },
  {
   "cell_type": "code",
   "execution_count": 451,
   "metadata": {
    "collapsed": false,
    "deletable": true,
    "editable": true
   },
   "outputs": [],
   "source": [
    "def getSplitVWAP(book):\n",
    "    return [getBookVWAP(bucket) for bucket in np.split(np.array(book), 5)]\n",
    "\n",
    "def getBookVWAP(book):\n",
    "    prices = np.array([order[0] for order in book])\n",
    "    sizes = np.array([order[1] for order in book])\n",
    "    return (prices * sizes).sum() / sizes.sum()\n",
    "\n",
    "def getBookVWAPAndSize(book):\n",
    "    prices = np.array([order[0] for order in book])\n",
    "    sizes = np.array([order[1] for order in book])\n",
    "    return [(prices * sizes).sum() / sizes.sum(), sizes.sum()]"
   ]
  },
  {
   "cell_type": "code",
   "execution_count": 452,
   "metadata": {
    "collapsed": false,
    "deletable": true,
    "editable": true
   },
   "outputs": [],
   "source": [
    "asks_VWAP = pd.Series.apply(asks, getSplitVWAP)\n",
    "bids_VWAP = pd.Series.apply(bids, getSplitVWAP)"
   ]
  },
  {
   "cell_type": "code",
   "execution_count": 494,
   "metadata": {
    "collapsed": false
   },
   "outputs": [],
   "source": [
    "def bucketDiffs(orders):\n",
    "    orders = np.array(np.array(orders).tolist())\n",
    "    diffs = []\n",
    "    for i in range(1,len(orders)):\n",
    "        diffs.append(orders[i]-orders[i-1])\n",
    "    return diffs"
   ]
  },
  {
   "cell_type": "code",
   "execution_count": 495,
   "metadata": {
    "collapsed": false,
    "deletable": true,
    "editable": true
   },
   "outputs": [],
   "source": [
    "def normalizeDiffs(orders):\n",
    "#     asks_with_shape = np.array(np.array(asks_VWAP).tolist())\n",
    "#     asks_diff = np.diff(asks_with_shape, axis=1)\n",
    "#     asks_diff[0]\n",
    "    with_shape = np.array(np.array(orders).tolist())\n",
    "    diff = bucketDiffs(orders)\n",
    "    return diff"
   ]
  },
  {
   "cell_type": "code",
   "execution_count": 496,
   "metadata": {
    "collapsed": false
   },
   "outputs": [],
   "source": [
    "# a_abs = np.fabs(asks_diff)\n",
    "# print(a_abs)\n",
    "# # [[ 1.  2.]\n",
    "# #  [ 3.  4.]\n",
    "# #  [ 2.  2.]\n",
    "# #  [ 0.  1.]\n",
    "# #  [ 1.  3.]]\n",
    "\n",
    "# a_max = np.amax(a_abs)\n",
    "# a_max\n",
    "normalized_asks = normalizeDiffs(asks_VWAP)\n",
    "normalized_bids = normalizeDiffs(bids_VWAP)"
   ]
  },
  {
   "cell_type": "code",
   "execution_count": 497,
   "metadata": {
    "collapsed": false,
    "deletable": true,
    "editable": true
   },
   "outputs": [
    {
     "data": {
      "text/plain": [
       "[array([-0.02967084,  0.01481596, -0.00838651, -0.19322573, -0.06038292]),\n",
       " array([ 0.        , -0.01466136,  0.00073075,  0.00150321,  0.05398726]),\n",
       " array([ 0.05834832,  0.0211964 ,  0.00532813, -0.0615994 , -0.05398726]),\n",
       " array([ 0.,  0.,  0.,  0.,  0.]),\n",
       " array([ 0.,  0.,  0.,  0.,  0.]),\n",
       " array([-0.01558439, -0.02140146, -0.00148909, -0.01559691, -0.00780259]),\n",
       " array([ 0.        ,  0.        ,  0.0002227 , -0.00040388,  0.        ]),\n",
       " array([ 0.,  0.,  0.,  0.,  0.]),\n",
       " array([  1.47481772e-01,  -1.03985131e-02,   2.22409793e-05,\n",
       "          4.03884893e-04,   5.70890381e-02]),\n",
       " array([ 0.01579394,  0.01845683,  0.00047005,  0.        ,  0.        ])]"
      ]
     },
     "execution_count": 497,
     "metadata": {},
     "output_type": "execute_result"
    }
   ],
   "source": [
    "normalized_bids[:10]"
   ]
  },
  {
   "cell_type": "code",
   "execution_count": 498,
   "metadata": {
    "collapsed": false,
    "deletable": true,
    "editable": true
   },
   "outputs": [
    {
     "data": {
      "text/plain": [
       "458.09500000000003"
      ]
     },
     "execution_count": 498,
     "metadata": {},
     "output_type": "execute_result"
    }
   ],
   "source": [
    "marketPrices[0]"
   ]
  },
  {
   "cell_type": "code",
   "execution_count": 546,
   "metadata": {
    "collapsed": false,
    "deletable": true,
    "editable": true
   },
   "outputs": [],
   "source": [
    "data = np.array(np.hstack((normalized_asks, normalized_bids)).tolist())"
   ]
  },
  {
   "cell_type": "code",
   "execution_count": 547,
   "metadata": {
    "collapsed": false
   },
   "outputs": [
    {
     "data": {
      "text/plain": [
       "array([-0.04495413, -0.01178321, -0.00272338,  0.1320499 ,  0.08654638,\n",
       "       -0.02967084,  0.01481596, -0.00838651, -0.19322573, -0.06038292])"
      ]
     },
     "execution_count": 547,
     "metadata": {},
     "output_type": "execute_result"
    }
   ],
   "source": [
    "data[0]"
   ]
  },
  {
   "cell_type": "code",
   "execution_count": 561,
   "metadata": {
    "collapsed": false
   },
   "outputs": [
    {
     "data": {
      "text/plain": [
       "(49999, 10)"
      ]
     },
     "execution_count": 561,
     "metadata": {},
     "output_type": "execute_result"
    }
   ],
   "source": [
    "np.array(data).shape"
   ]
  },
  {
   "cell_type": "code",
   "execution_count": 596,
   "metadata": {
    "collapsed": false
   },
   "outputs": [],
   "source": [
    "def sliding_window(arr, window):\n",
    "    windows = []\n",
    "    for i in range(window,len(arr)):\n",
    "        windows.append(arr[i-window:i])\n",
    "    return windows"
   ]
  },
  {
   "cell_type": "code",
   "execution_count": 604,
   "metadata": {
    "collapsed": false,
    "deletable": true,
    "editable": true
   },
   "outputs": [
    {
     "name": "stdout",
     "output_type": "stream",
     "text": [
      "(49999, 10)\n",
      "9999\n",
      "(49999, 10)\n",
      "(49993, 5, 10)\n"
     ]
    }
   ],
   "source": [
    "print(data.shape)\n",
    "print(int(time_series.shape[0]/5))\n",
    "time_series = np.array(data.tolist())\n",
    "print(time_series.shape)\n",
    "sliding_buckets = np.array(np.array(sliding_window(time_series, 5)[:-1]).tolist())\n",
    "print(sliding_buckets.shape)"
   ]
  },
  {
   "cell_type": "code",
   "execution_count": 605,
   "metadata": {
    "collapsed": true
   },
   "outputs": [],
   "source": [
    "# get market prices"
   ]
  },
  {
   "cell_type": "code",
   "execution_count": 606,
   "metadata": {
    "collapsed": false
   },
   "outputs": [
    {
     "name": "stderr",
     "output_type": "stream",
     "text": [
      "/Users/devin/anaconda3/envs/aind-dog/lib/python3.5/site-packages/sklearn/utils/validation.py:395: DeprecationWarning: Passing 1d arrays as data is deprecated in 0.17 and will raise ValueError in 0.19. Reshape your data either using X.reshape(-1, 1) if your data has a single feature or X.reshape(1, -1) if it contains a single sample.\n",
      "  DeprecationWarning)\n"
     ]
    }
   ],
   "source": [
    "target_prices = np.array(marketPrices.diff()[0:-1:5].tolist())\n",
    "target_prices = normalize(np.diff(np.array(marketPrices))).ravel()[6:]"
   ]
  },
  {
   "cell_type": "code",
   "execution_count": 607,
   "metadata": {
    "collapsed": false
   },
   "outputs": [
    {
     "data": {
      "text/plain": [
       "(49993,)"
      ]
     },
     "execution_count": 607,
     "metadata": {},
     "output_type": "execute_result"
    }
   ],
   "source": [
    "# sliced_prices = sliding_window(diff_prices, 5)\n",
    "# sliced_prices[0]\n",
    "np.array(target_prices).shape"
   ]
  },
  {
   "cell_type": "code",
   "execution_count": 608,
   "metadata": {
    "collapsed": false,
    "deletable": true,
    "editable": true
   },
   "outputs": [],
   "source": [
    "from keras.models import Sequential\n",
    "from keras.layers import Dense, Activation, LSTM, Conv1D, Flatten, TimeDistributed"
   ]
  },
  {
   "cell_type": "code",
   "execution_count": 612,
   "metadata": {
    "collapsed": false,
    "deletable": true,
    "editable": true
   },
   "outputs": [],
   "source": [
    "model = Sequential()\n",
    "model.add(LSTM(4, input_shape=(5, 10)))\n",
    "model.add(Dense(1))\n",
    "model.compile(loss='mean_squared_error',\n",
    "                  optimizer='Adam',\n",
    "                  metrics=['accuracy'])"
   ]
  },
  {
   "cell_type": "code",
   "execution_count": null,
   "metadata": {
    "collapsed": false,
    "deletable": true,
    "editable": true
   },
   "outputs": [],
   "source": [
    "model.fit(sliding_buckets, target_prices, batch_size=100, epochs=5, validation_split=0.25)"
   ]
  },
  {
   "cell_type": "code",
   "execution_count": 414,
   "metadata": {
    "collapsed": false,
    "deletable": true,
    "editable": true
   },
   "outputs": [
    {
     "data": {
      "text/plain": [
       "array([[[ 457.8389415 ,   83.91149394],\n",
       "        [ 457.3526675 ,   65.90996338],\n",
       "        [ 456.93632289,  193.24693372],\n",
       "        [ 456.81556624,   12.50021269],\n",
       "        [ 456.20939391,   91.77681595],\n",
       "        [ 458.13537431,   32.10720375],\n",
       "        [ 458.83672508,   77.286265  ],\n",
       "        [ 459.38518398,   89.59467601],\n",
       "        [ 459.64004644,   34.854033  ],\n",
       "        [ 459.93487117,  112.68685438]],\n",
       "\n",
       "       [[ 457.80927066,   93.43449394],\n",
       "        [ 457.36748346,   79.32096338],\n",
       "        [ 456.92793639,  194.58905458],\n",
       "        [ 456.62234051,    6.31469183],\n",
       "        [ 456.14901099,  138.28840596],\n",
       "        [ 458.09042019,   33.92031475],\n",
       "        [ 458.82494187,   76.255401  ],\n",
       "        [ 459.38246061,   89.59467601],\n",
       "        [ 459.77209634,   87.18494639],\n",
       "        [ 460.02141754,  120.31227599]],\n",
       "\n",
       "       [[ 457.80927066,   93.43449394],\n",
       "        [ 457.3528221 ,   65.98096338],\n",
       "        [ 456.92866714,  194.55893372],\n",
       "        [ 456.62384372,    6.30341269],\n",
       "        [ 456.20299825,   92.63990595],\n",
       "        [ 458.08760685,   39.34031475],\n",
       "        [ 458.78256402,   61.255401  ],\n",
       "        [ 459.34340061,   85.68271501],\n",
       "        [ 459.579887  ,   36.254029  ],\n",
       "        [ 459.93612831,  166.35115438]],\n",
       "\n",
       "       [[ 457.86761898,  100.95449394],\n",
       "        [ 457.3740185 ,   78.19799604],\n",
       "        [ 456.93399526,  197.71902192],\n",
       "        [ 456.56224432,    4.30469183],\n",
       "        [ 456.14901099,  138.28840596],\n",
       "        [ 458.10003708,   17.496061  ],\n",
       "        [ 458.81647134,   62.567901  ],\n",
       "        [ 459.36219412,   95.58271501],\n",
       "        [ 459.77208674,   87.18494839],\n",
       "        [ 460.0222559 ,  124.53997599]],\n",
       "\n",
       "       [[ 457.86761898,  100.95449394],\n",
       "        [ 457.3740185 ,   78.19799604],\n",
       "        [ 456.93399526,  197.71902192],\n",
       "        [ 456.56224432,    4.30469183],\n",
       "        [ 456.14901099,  138.28840596],\n",
       "        [ 458.10003708,   17.496061  ],\n",
       "        [ 458.84793458,   71.567901  ],\n",
       "        [ 459.41846975,   80.59467601],\n",
       "        [ 459.84424351,  137.17298739],\n",
       "        [ 460.1346016 ,   94.04397599]]])"
      ]
     },
     "execution_count": 414,
     "metadata": {},
     "output_type": "execute_result"
    }
   ],
   "source": [
    "time_series[0]"
   ]
  },
  {
   "cell_type": "code",
   "execution_count": 415,
   "metadata": {
    "collapsed": false,
    "deletable": true,
    "editable": true
   },
   "outputs": [
    {
     "data": {
      "text/plain": [
       "array([-0.0021495 ,  0.        ,  0.0050155 , ..., -0.00322425,\n",
       "        0.        ,  0.00394075])"
      ]
     },
     "execution_count": 415,
     "metadata": {},
     "output_type": "execute_result"
    }
   ],
   "source": [
    "sliced_prices"
   ]
  },
  {
   "cell_type": "code",
   "execution_count": 416,
   "metadata": {
    "collapsed": false,
    "deletable": true,
    "editable": true
   },
   "outputs": [
    {
     "data": {
      "text/plain": [
       "array([[ 134.60336304]], dtype=float32)"
      ]
     },
     "execution_count": 416,
     "metadata": {},
     "output_type": "execute_result"
    }
   ],
   "source": [
    "model.predict(np.array([time_series[5]]))"
   ]
  },
  {
   "cell_type": "code",
   "execution_count": 417,
   "metadata": {
    "collapsed": false
   },
   "outputs": [
    {
     "name": "stdout",
     "output_type": "stream",
     "text": [
      "-0.00214950097888   [[ 136.83778381]]\n",
      "0.0   [[ 116.76737976]]\n",
      "0.00501550228405   [[ 80.7066803]]\n",
      "0.0   [[ 94.66082764]]\n",
      "0.0   [[ 133.93530273]]\n",
      "0.0   [[ 134.60336304]]\n",
      "0.0   [[ 129.40983582]]\n",
      "0.0   [[ 119.22134399]]\n",
      "0.0   [[ 103.34341431]]\n",
      "0.0   [[ 134.41841125]]\n",
      "0.0   [[ 111.44776917]]\n",
      "0.0   [[ 112.42054749]]\n",
      "0.0   [[ 112.60679626]]\n",
      "0.0   [[ 98.43779755]]\n",
      "0.0   [[ 77.46728516]]\n",
      "0.0   [[ 132.86380005]]\n",
      "0.0   [[ 140.58605957]]\n",
      "0.0   [[ 126.48045349]]\n",
      "0.0   [[ 84.05243683]]\n",
      "0.0   [[ 69.62892914]]\n",
      "0.0   [[ 69.06201172]]\n",
      "0.0   [[-8.37551498]]\n",
      "0.0   [[ 55.20742798]]\n",
      "0.0   [[ 91.3833313]]\n",
      "0.0   [[ 25.36014557]]\n",
      "0.0   [[-25.42673492]]\n",
      "0.0   [[ 87.5565033]]\n",
      "0.0   [[ 131.75802612]]\n",
      "0.0   [[ 114.25089264]]\n",
      "0.0   [[ 99.58597565]]\n",
      "0.0   [[ 131.56307983]]\n",
      "0.0   [[ 89.49495697]]\n",
      "0.0   [[ 5.93018723]]\n",
      "0.0   [[ 55.64246368]]\n",
      "0.0   [[ 60.6386261]]\n",
      "0.0   [[ 122.99694061]]\n",
      "0.0   [[ 27.45167923]]\n",
      "0.0   [[-1.36375427]]\n",
      "0.0128970058733   [[ 103.92967224]]\n",
      "0.0   [[ 43.5026474]]\n",
      "0.00537375244719   [[ 70.58277893]]\n",
      "0.0   [[ 61.43150711]]\n",
      "0.0053737524472   [[-59.71042252]]\n",
      "0.0222115101151   [[ 108.24029541]]\n",
      "0.0   [[ 41.48241425]]\n",
      "0.0   [[-1.20722198]]\n",
      "0.0   [[ 2.83727646]]\n",
      "0.0   [[ 25.15615082]]\n",
      "0.0   [[ 51.48836517]]\n",
      "0.0   [[ 116.20365906]]\n",
      "0.0   [[ 142.51991272]]\n",
      "0.0   [[ 135.74008179]]\n",
      "0.0   [[ 149.70323181]]\n",
      "0.0   [[ 111.99214172]]\n",
      "0.0   [[ 84.04508209]]\n",
      "0.0   [[ 100.74562073]]\n",
      "0.0   [[ 85.26008606]]\n",
      "0.0   [[ 90.34283447]]\n",
      "0.0   [[ 102.57575989]]\n",
      "0.0   [[ 96.824646]]\n",
      "0.0   [[ 80.23484802]]\n",
      "0.0   [[ 116.96504211]]\n",
      "0.0   [[ 115.49446106]]\n",
      "0.0   [[ 102.9447937]]\n",
      "0.0   [[ 142.01280212]]\n",
      "0.0   [[ 115.39842224]]\n",
      "0.0   [[ 118.50089264]]\n",
      "0.0   [[ 108.05410767]]\n",
      "0.0   [[ 103.71302032]]\n",
      "0.0   [[ 101.15301514]]\n",
      "0.0   [[ 86.2738266]]\n",
      "0.0   [[ 90.71539307]]\n",
      "0.0   [[ 103.68055725]]\n",
      "0.0   [[ 91.1335144]]\n",
      "0.0   [[ 105.05679321]]\n",
      "-0.0383327674566   [[ 156.76707458]]\n",
      "-0.0193455088099   [[ 16.68835831]]\n",
      "0.0   [[ 34.80554962]]\n",
      "0.00322425146832   [[ 60.3192749]]\n",
      "-0.0150465068521   [[ 100.28419495]]\n",
      "0.0   [[ 37.0943222]]\n",
      "0.0   [[ 56.58561325]]\n",
      "0.0   [[-14.16269875]]\n",
      "0.0111057550575   [[ 103.90567017]]\n",
      "-0.00143300065258   [[ 98.3979187]]\n",
      "-0.00107475048944   [[ 5.40415192]]\n",
      "-0.000358250163146   [[-2.48501968]]\n",
      "-0.000716500326296   [[-12.9757576]]\n",
      "-0.000716500326292   [[ 11.91337585]]\n",
      "-0.00573200261034   [[ 98.78490448]]\n",
      "0.0   [[ 67.11222076]]\n",
      "0.0   [[ 12.15831757]]\n",
      "0.0   [[-5.5999794]]\n",
      "0.000358250163146   [[ 77.09983826]]\n",
      "0.0   [[ 39.15901184]]\n",
      "0.0   [[ 33.24097443]]\n",
      "0.0   [[ 86.57971954]]\n",
      "0.0   [[ 72.11309052]]\n",
      "-0.000716500326292   [[ 96.39661407]]\n",
      "-0.0136135061995   [[-18.48833847]]\n"
     ]
    }
   ],
   "source": [
    "for i in range(100):\n",
    "    print(sliced_prices[i], ' ', model.predict(np.array([time_series[i]])))"
   ]
  },
  {
   "cell_type": "code",
   "execution_count": null,
   "metadata": {
    "collapsed": true
   },
   "outputs": [],
   "source": []
  }
 ],
 "metadata": {
  "kernelspec": {
   "display_name": "Python 3",
   "language": "python",
   "name": "python3"
  },
  "language_info": {
   "codemirror_mode": {
    "name": "ipython",
    "version": 3
   },
   "file_extension": ".py",
   "mimetype": "text/x-python",
   "name": "python",
   "nbconvert_exporter": "python",
   "pygments_lexer": "ipython3",
   "version": "3.5.3"
  }
 },
 "nbformat": 4,
 "nbformat_minor": 2
}
